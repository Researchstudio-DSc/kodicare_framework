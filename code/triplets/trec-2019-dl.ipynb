{
 "cells": [
  {
   "cell_type": "code",
   "execution_count": 1,
   "metadata": {},
   "outputs": [],
   "source": [
    "import os\n",
    "import json\n",
    "from sklearn.feature_extraction.text import TfidfVectorizer\n",
    "from sklearn.metrics.pairwise import cosine_similarity\n",
    "import scipy.sparse\n",
    "import re\n",
    "import numpy as np\n",
    "from tqdm import tqdm\n",
    "import time\n",
    "import pysparnn.cluster_index as ci\n",
    "no_num_clean_p = re.compile(r'[^\\w\\s]+|\\d+', re.UNICODE)\n",
    "\n",
    "DOCS = 3213835\n",
    "document_file = \"/home/tfink/data/kodicare/trec-2019-dl/doc_ret/msmarco-docs.head100k.tsv\"\n",
    "queries_file = \"/home/tfink/data/kodicare/trec-2019-dl/doc_ret/msmarco-doctrain-queries.tsv\"\n",
    "qrels_file = \"/home/tfink/data/kodicare/trec-2019-dl/doc_ret/msmarco-doctrain-qrels.tsv\""
   ]
  },
  {
   "cell_type": "markdown",
   "metadata": {},
   "source": [
    "# triplet generation process\n",
    "* preprocess text\n",
    "* create tf idf vectors\n",
    "    * dictionary\n",
    "    * tf-idf model\n",
    "    * convert to vector? (sparse)\n",
    "* store vectors in faiss (with document id)\n",
    "* store vectors somewhere else because sparse\n",
    "* get positive document (PD) vectors \n",
    "* get approximate nearest neighbors of PD to create negatives"
   ]
  },
  {
   "cell_type": "code",
   "execution_count": 2,
   "metadata": {},
   "outputs": [],
   "source": [
    "def document_text_iterator():\n",
    "    with open(document_file, \"r\") as fp:\n",
    "        for doc_line in tqdm(fp, total=DOCS):\n",
    "            data = doc_line.strip().split(sep=\"\\t\")\n",
    "            if len(data) != 4:\n",
    "                #print(len(data), data)\n",
    "                continue\n",
    "            doc_id, doc_url, doc_title, doc_text = data\n",
    "            yield doc_text\n",
    "\n",
    "\n",
    "def document_iterator():\n",
    "    with open(document_file, \"r\") as fp:\n",
    "        for doc_line in fp:\n",
    "            data = doc_line.strip().split(sep=\"\\t\")\n",
    "            if len(data) != 4:\n",
    "                #print(len(data), data)\n",
    "                continue\n",
    "            doc_id, doc_url, doc_title, doc_text = data\n",
    "            yield doc_id, doc_url, doc_title, doc_text\n",
    "\n",
    "\n",
    "def get_document_ids():\n",
    "    doc_ids = []\n",
    "    doc_ids_inv = {}\n",
    "    with open(document_file, \"r\") as fp:\n",
    "        for doc_line in fp:\n",
    "            data = doc_line.strip().split(sep=\"\\t\")\n",
    "            if len(data) != 4:\n",
    "                #print(len(data), data)\n",
    "                continue\n",
    "            doc_id, doc_url, doc_title, doc_text = data\n",
    "            doc_ids_inv[doc_id] = len(doc_ids)\n",
    "            doc_ids.append(doc_id)\n",
    "    return doc_ids, doc_ids_inv"
   ]
  },
  {
   "cell_type": "code",
   "execution_count": 3,
   "metadata": {},
   "outputs": [],
   "source": [
    "def read_qrels():\n",
    "    relevance_judgements = {}\n",
    "    with open(qrels_file, \"r\") as fp:\n",
    "        for qrel_line in fp:\n",
    "            q_id, _, doc_id, relevance = qrel_line.strip().split()\n",
    "            relevance = int(relevance)\n",
    "            if relevance == 1:\n",
    "                if q_id not in relevance_judgements:\n",
    "                    relevance_judgements[q_id] = set()\n",
    "                relevance_judgements[q_id].add(doc_id)\n",
    "    return relevance_judgements\n",
    "\n",
    "\n",
    "def read_queries():\n",
    "    queries = {}\n",
    "    with open(queries_file, \"r\") as fp:\n",
    "        for queries_line in fp:\n",
    "            q_id, q_text = queries_line.strip().split(sep=\"\\t\")\n",
    "            queries[q_id] = q_text\n",
    "    return queries"
   ]
  },
  {
   "cell_type": "code",
   "execution_count": 4,
   "metadata": {},
   "outputs": [
    {
     "name": "stderr",
     "output_type": "stream",
     "text": [
      "  0%|          | 0/3213835 [00:00<?, ?it/s]"
     ]
    },
    {
     "name": "stderr",
     "output_type": "stream",
     "text": [
      "  3%|▎         | 100000/3213835 [00:42<21:55, 2367.58it/s]\n"
     ]
    }
   ],
   "source": [
    "tfidf_vect = TfidfVectorizer(max_df=0.25, min_df=100, norm='l2', dtype=np.float32, stop_words='english')\n",
    "x = tfidf_vect.fit_transform(document_text_iterator())"
   ]
  },
  {
   "cell_type": "code",
   "execution_count": 5,
   "metadata": {},
   "outputs": [],
   "source": [
    "doc_ids, doc_ids_inv = get_document_ids()\n",
    "relevance_judgements = read_qrels()"
   ]
  },
  {
   "cell_type": "code",
   "execution_count": 6,
   "metadata": {},
   "outputs": [
    {
     "name": "stderr",
     "output_type": "stream",
     "text": [
      "/home/tfink/miniconda3/envs/kodicare/lib/python3.8/site-packages/pysparnn-0.4-py3.8.egg/pysparnn/matrix_distance.py:192: RuntimeWarning: divide by zero encountered in divide\n"
     ]
    }
   ],
   "source": [
    "# build the search index!\n",
    "cp = ci.MultiClusterIndex(x, doc_ids)"
   ]
  },
  {
   "cell_type": "code",
   "execution_count": 27,
   "metadata": {},
   "outputs": [
    {
     "name": "stderr",
     "output_type": "stream",
     "text": [
      "  0%|          | 0/367013 [00:00<?, ?it/s]"
     ]
    },
    {
     "name": "stderr",
     "output_type": "stream",
     "text": [
      "100%|██████████| 367013/367013 [00:00<00:00, 462454.54it/s]\n"
     ]
    },
    {
     "name": "stdout",
     "output_type": "stream",
     "text": [
      "positives 11532\n"
     ]
    },
    {
     "name": "stderr",
     "output_type": "stream",
     "text": [
      "  0%|          | 0/3 [00:00<?, ?it/s]/home/tfink/miniconda3/envs/kodicare/lib/python3.8/site-packages/pysparnn-0.4-py3.8.egg/pysparnn/matrix_distance.py:192: RuntimeWarning: divide by zero encountered in divide\n",
      "  magnitude = 1.0 / (a_root_sum_square * self.matrix_root_sum_square)\n",
      "100%|██████████| 3/3 [02:00<00:00, 40.15s/it]"
     ]
    },
    {
     "name": "stdout",
     "output_type": "stream",
     "text": [
      "Took 120.44857835769653\n"
     ]
    },
    {
     "name": "stderr",
     "output_type": "stream",
     "text": [
      "\n"
     ]
    }
   ],
   "source": [
    "top_k = 100\n",
    "k_cluster = 5\n",
    "\n",
    "search_features_vec = []\n",
    "doc_data = []\n",
    "for q_id, relevant_doc_ids in tqdm(relevance_judgements.items()):\n",
    "    for pos_doc_id in relevant_doc_ids:\n",
    "        if pos_doc_id not in doc_ids_inv:\n",
    "            continue\n",
    "        relevant_doc_vector = x[doc_ids_inv[pos_doc_id]]\n",
    "        search_features_vec.append(relevant_doc_vector)\n",
    "        doc_data.append((q_id, pos_doc_id, relevant_doc_ids))\n",
    "\n",
    "\n",
    "def batched_search(cp, search_features_vec, batch_size=4096, k=10, k_clusters=2, return_distance=True):\n",
    "    search_features_vec_size = search_features_vec.shape[0]\n",
    "    steps = int(np.ceil(search_features_vec_size / batch_size))\n",
    "    sims_with_idx = []\n",
    "    for i in tqdm(range(steps)):\n",
    "        start_idx = i*batch_size\n",
    "        end_idx = start_idx + batch_size\n",
    "        sims_with_idx.extend(\n",
    "            cp.search(search_features_vec[start_idx:end_idx,:], k=k, \n",
    "                      k_clusters=k_clusters, return_distance=return_distance)\n",
    "        )\n",
    "    return sims_with_idx\n",
    "\n",
    "print(\"positives\", len(search_features_vec))\n",
    "search_features_vec = scipy.sparse.vstack(search_features_vec)\n",
    "t0 = time.time()\n",
    "sims_with_idx = batched_search(cp, search_features_vec, batch_size=1000, k=top_k, k_clusters=k_cluster, return_distance=True)\n",
    "t1 = time.time()\n",
    "print(\"Took\", t1-t0)"
   ]
  },
  {
   "cell_type": "code",
   "execution_count": 35,
   "metadata": {},
   "outputs": [],
   "source": [
    "upper_bound=1.0\n",
    "lower_bound=0.40\n",
    "triplets = []\n",
    "for i in range(len(doc_data)):\n",
    "    # set all known relevant documents to -inf\n",
    "    q_id, pos_doc_id, relevant_doc_ids = doc_data[i]\n",
    "    for distance, neg_doc_id in sims_with_idx[i]:\n",
    "        s = 1-float(distance)\n",
    "        if neg_doc_id in relevant_doc_ids or s > upper_bound or s < lower_bound:\n",
    "            continue\n",
    "        triplets.append(((q_id, pos_doc_id, neg_doc_id), s))"
   ]
  },
  {
   "cell_type": "code",
   "execution_count": 36,
   "metadata": {},
   "outputs": [
    {
     "data": {
      "text/plain": [
       "[(('145', 'D178709', 'D1772147'), 0.54287),\n",
       " (('145', 'D178709', 'D657589'), 0.52431685),\n",
       " (('145', 'D178709', 'D3256601'), 0.44943464),\n",
       " (('145', 'D178709', 'D3025891'), 0.40145660000000005),\n",
       " (('295', 'D2370783', 'D2595990'), 0.5140323600000001),\n",
       " (('295', 'D2370783', 'D720413'), 0.4991666),\n",
       " (('295', 'D2370783', 'D1492605'), 0.4848367),\n",
       " (('295', 'D2370783', 'D1657038'), 0.4622452),\n",
       " (('295', 'D2370783', 'D651600'), 0.45918304),\n",
       " (('295', 'D2370783', 'D2129596'), 0.44762135000000003)]"
      ]
     },
     "execution_count": 36,
     "metadata": {},
     "output_type": "execute_result"
    }
   ],
   "source": [
    "triplets[:10]"
   ]
  },
  {
   "cell_type": "code",
   "execution_count": 23,
   "metadata": {},
   "outputs": [
    {
     "name": "stderr",
     "output_type": "stream",
     "text": [
      "100%|██████████| 367013/367013 [00:01<00:00, 244872.28it/s]\n"
     ]
    },
    {
     "name": "stdout",
     "output_type": "stream",
     "text": [
      "positives 11532\n"
     ]
    },
    {
     "name": "stderr",
     "output_type": "stream",
     "text": [
      "100%|██████████| 25/25 [00:58<00:00,  2.34s/it]"
     ]
    },
    {
     "name": "stdout",
     "output_type": "stream",
     "text": [
      "Took 58.432796478271484\n"
     ]
    },
    {
     "name": "stderr",
     "output_type": "stream",
     "text": [
      "\n"
     ]
    }
   ],
   "source": [
    "def batched_cosine_similarity(X,Y, batch_size=4096, dtype=np.float64):\n",
    "    X_size = X.shape[0]\n",
    "    Y_size = Y.shape[0]\n",
    "    steps = int(np.ceil(Y_size / batch_size))\n",
    "    sims = np.zeros((X_size, Y_size), dtype=dtype)\n",
    "    for i in tqdm(range(steps)):\n",
    "        start_idx = i*batch_size\n",
    "        end_idx = start_idx + batch_size\n",
    "        sim = cosine_similarity(X,Y[start_idx:end_idx,:]).astype(dtype=dtype)\n",
    "        sims[:,start_idx:end_idx] = sim\n",
    "    return sims\n",
    "\n",
    "\n",
    "doc_vecs = []\n",
    "doc_data = []\n",
    "for q_id, relevant_doc_ids in tqdm(relevance_judgements.items()):\n",
    "    for pos_doc_id in relevant_doc_ids:\n",
    "        if pos_doc_id not in doc_ids_inv:\n",
    "            continue\n",
    "        relevant_doc_vector = x[doc_ids_inv[pos_doc_id]]\n",
    "        relevant_doc_idx = [doc_ids_inv[doc_id] for doc_id in relevant_doc_ids if doc_id in doc_ids_inv]\n",
    "        doc_vecs.append(relevant_doc_vector)\n",
    "        doc_data.append((q_id, pos_doc_id, relevant_doc_idx))\n",
    "\n",
    "print(\"positives\", len(doc_vecs))\n",
    "doc_vecs = scipy.sparse.vstack(doc_vecs)\n",
    "t0 = time.time()\n",
    "#sims = cosine_similarity(doc_vecs, x)\n",
    "sims = batched_cosine_similarity(doc_vecs, x, batch_size=4096, dtype=np.float32)\n",
    "t1 = time.time()\n",
    "print(\"Took\", t1-t0)"
   ]
  },
  {
   "cell_type": "code",
   "execution_count": 24,
   "metadata": {},
   "outputs": [],
   "source": [
    "top_k=10\n",
    "upper_bound=1.0\n",
    "lower_bound=0.40\n",
    "triplets = []\n",
    "for i in range(len(doc_data)):\n",
    "    # set all known relevant documents to -inf\n",
    "    q_id, pos_doc_id, relevant_doc_idx = doc_data[i]\n",
    "    sims[i,relevant_doc_idx] = -np.inf\n",
    "    # set all documents outside the boundaries to -inf\n",
    "    sims[i] = np.where(np.logical_and(sims[i] <= upper_bound, sims[i] >= lower_bound), sims[i], -np.inf)\n",
    "    # get the top k document ids with the highest similarity, filtering out -inf\n",
    "    top_sims_idx = np.argpartition(sims[i,:], -top_k)[-top_k:]\n",
    "    sims_with_idx = [(doc_ids[idx], s) for idx, s in zip(top_sims_idx, sims[i,:][top_sims_idx]) \n",
    "                     if s != -np.inf]\n",
    "    sims_with_idx = sorted(sims_with_idx, key=lambda x:x[1], reverse=True)\n",
    "    for neg_doc_id, s in sims_with_idx:\n",
    "        triplets.append(((q_id, pos_doc_id, neg_doc_id), s))"
   ]
  },
  {
   "cell_type": "code",
   "execution_count": 25,
   "metadata": {},
   "outputs": [
    {
     "data": {
      "text/plain": [
       "[(('145', 'D178709', 'D1772147'), 0.54287),\n",
       " (('145', 'D178709', 'D657589'), 0.52431685),\n",
       " (('145', 'D178709', 'D3256601'), 0.44943464),\n",
       " (('145', 'D178709', 'D3025891'), 0.40145656),\n",
       " (('295', 'D2370783', 'D2595990'), 0.51403236),\n",
       " (('295', 'D2370783', 'D720413'), 0.49916664),\n",
       " (('295', 'D2370783', 'D100082'), 0.49583653),\n",
       " (('295', 'D2370783', 'D1492605'), 0.4848367),\n",
       " (('295', 'D2370783', 'D1657038'), 0.46224523),\n",
       " (('295', 'D2370783', 'D626914'), 0.4620225)]"
      ]
     },
     "execution_count": 25,
     "metadata": {},
     "output_type": "execute_result"
    }
   ],
   "source": [
    "triplets[:10]"
   ]
  },
  {
   "cell_type": "code",
   "execution_count": null,
   "metadata": {},
   "outputs": [],
   "source": [
    "top_k=10\n",
    "upper_bound=1.0\n",
    "lower_bound=0.40\n",
    "batch_size = 1024\n",
    "\n",
    "def get_triplets():\n",
    "    triplets = []\n",
    "\n",
    "    doc_vecs = []\n",
    "    doc_data = []\n",
    "    for q_id, relevant_doc_ids in tqdm(relevance_judgements.items()):\n",
    "        for pos_doc_id in relevant_doc_ids:\n",
    "            if pos_doc_id not in doc_ids_inv:\n",
    "                continue\n",
    "            relevant_doc_vector = x[doc_ids_inv[pos_doc_id]]\n",
    "            relevant_doc_idx = [doc_ids_inv[doc_id] for doc_id in relevant_doc_ids if doc_id in doc_ids_inv]\n",
    "            doc_vecs.append(relevant_doc_vector)\n",
    "            doc_data.append((q_id, pos_doc_id, relevant_doc_idx))\n",
    "\n",
    "    print(\"positives\", len(doc_vecs))\n",
    "    doc_vecs = scipy.sparse.vstack(doc_vecs)\n",
    "    t0 = time.time()\n",
    "    sims = cosine_similarity(doc_vecs, x)\n",
    "    t1 = time.time()\n",
    "    print(\"Took\", t1-t0)\n",
    "\n",
    "    for i in range(len(doc_data)):\n",
    "        # set all known relevant documents to -inf\n",
    "        q_id, pos_doc_id, relevant_doc_idx = doc_data[i]\n",
    "        sims[i,relevant_doc_idx] = -np.inf\n",
    "        # set all documents outside the boundaries to -inf\n",
    "        sims[i] = np.where(np.logical_and(sims[i] <= upper_bound, sims[i] >= lower_bound), sims[i], -np.inf)\n",
    "        # get the top k document ids with the highest similarity, filtering out -inf\n",
    "        top_sims_idx = np.argpartition(sims[i,:], -top_k)[-top_k:]\n",
    "        sims_with_idx = [(doc_ids[idx], s) for idx, s in zip(top_sims_idx, sims[i,:][top_sims_idx]) \n",
    "                        if s != -np.inf]\n",
    "        sims_with_idx = sorted(sims_with_idx, key=lambda x:x[1], reverse=True)\n",
    "        for neg_doc_id, s in sims_with_idx:\n",
    "            triplets.append(((q_id, pos_doc_id, neg_doc_id), s))"
   ]
  },
  {
   "cell_type": "code",
   "execution_count": 13,
   "metadata": {},
   "outputs": [],
   "source": [
    "def get_top_k_similar_brute_force(relevant_doc_vector, doc_vecs, relevant_doc_ids, top_k=10, upper_bound=1.0, lower_bound=0.70):\n",
    "    # calculate similarity\n",
    "    sim = cosine_similarity(relevant_doc_vector, doc_vecs)\n",
    "    # set all known relevant documents to -inf\n",
    "    relevant_doc_idx = [doc_ids_inv[doc_id] for doc_id in relevant_doc_ids if doc_id in doc_ids_inv]\n",
    "    sim[0,relevant_doc_idx] = -np.inf\n",
    "    # set all documents outside the boundaries to -inf\n",
    "    sim = np.where(np.logical_and(sim <= upper_bound, sim >= lower_bound), sim, -np.inf)\n",
    "    # get the top k document ids with the highest similarity, filtering out -inf\n",
    "    top_sims_idx = np.argpartition(sim[0,:], -top_k)[-top_k:]\n",
    "    sims_with_idx = [(doc_ids[idx], s) for idx, s in zip(top_sims_idx, sim[0,:][top_sims_idx]) \n",
    "                     if s != -np.inf]\n",
    "    return sims_with_idx"
   ]
  },
  {
   "cell_type": "code",
   "execution_count": 14,
   "metadata": {},
   "outputs": [
    {
     "name": "stderr",
     "output_type": "stream",
     "text": [
      "100%|██████████| 367013/367013 [00:34<00:00, 10568.03it/s]\n"
     ]
    }
   ],
   "source": [
    "triplets = []\n",
    "for q_id, relevant_docs in tqdm(relevance_judgements.items()):\n",
    "    for pos_doc_id in relevant_docs:\n",
    "        if pos_doc_id not in doc_ids_inv:\n",
    "            continue\n",
    "        relevant_doc_vector = x[doc_ids_inv[pos_doc_id]]\n",
    "        sims_with_idx = get_top_k_similar_brute_force(relevant_doc_vector=relevant_doc_vector, doc_vecs=x, relevant_doc_ids=relevant_docs, lower_bound=0.40)\n",
    "        sims_with_idx = sorted(sims_with_idx, key=lambda x:x[1], reverse=True)\n",
    "        for neg_doc_id, s in sims_with_idx:\n",
    "            triplets.append(((q_id, pos_doc_id, neg_doc_id), s))"
   ]
  },
  {
   "cell_type": "code",
   "execution_count": 15,
   "metadata": {},
   "outputs": [
    {
     "name": "stdout",
     "output_type": "stream",
     "text": [
      "1871\n"
     ]
    },
    {
     "data": {
      "text/plain": [
       "[(('2147', 'D2535727', 'D2727364'), 0.51060927),\n",
       " (('2147', 'D2535727', 'D1246698'), 0.42265898),\n",
       " (('3800', 'D2535659', 'D2998059'), 0.44727397),\n",
       " (('3800', 'D2535659', 'D383958'), 0.43441007),\n",
       " (('3813', 'D8292', 'D2075844'), 0.47311372),\n",
       " (('7389', 'D1584330', 'D392486'), 0.5405516),\n",
       " (('7389', 'D1584330', 'D3267610'), 0.4602831),\n",
       " (('10896', 'D1516301', 'D1820079'), 0.65886813),\n",
       " (('10896', 'D1516301', 'D2264553'), 0.5505372),\n",
       " (('11091', 'D469648', 'D250947'), 0.6178612)]"
      ]
     },
     "execution_count": 15,
     "metadata": {},
     "output_type": "execute_result"
    }
   ],
   "source": [
    "print(len(triplets))\n",
    "triplets[:10]"
   ]
  },
  {
   "cell_type": "code",
   "execution_count": 24,
   "metadata": {},
   "outputs": [],
   "source": [
    "def index_sparse_vectors(x):\n",
    "    # create an inverse index for the sparse matrix x\n",
    "    inverted_index = {}\n",
    "    for doc_idx in tqdm(range(x.shape[0])):\n",
    "        _, token_ids, token_scores = scipy.sparse.find(x[doc_idx,:])\n",
    "        for token_id, token_score in zip(token_ids, token_scores):\n",
    "            if token_id not in inverted_index:\n",
    "                inverted_index[token_id] = []\n",
    "            inverted_index[token_id].append((doc_idx, token_score))\n",
    "    return inverted_index\n",
    "\n",
    "\n",
    "# def dot_product_sparse(relevant_doc_vector, inverted_index):\n",
    "#     # if vectors are unit length, it is also the cosine similarity\n",
    "#     matching_docs = scipy.sparse.lil_array((1,num_docs), dtype='float32')\n",
    "#     _, token_ids, token_scores = scipy.sparse.find(relevant_doc_vector)\n",
    "#     for token_id, token_score in zip(token_ids, token_scores):\n",
    "#         for doc_idx, score in inverted_index[token_id]:\n",
    "#             matching_docs[0,doc_idx] += score*token_score\n",
    "#     return matching_docs\n",
    "\n",
    "def dot_product_sparse(relevant_doc_vector, inverted_index):\n",
    "    # if vectors are unit length, it is also the cosine similarity\n",
    "    matching_docs = {}\n",
    "    t0 = time.time()\n",
    "    _, token_ids, token_scores = scipy.sparse.find(relevant_doc_vector)\n",
    "    t1 = time.time()\n",
    "    for token_id, token_score in zip(token_ids, token_scores):\n",
    "        if len(inverted_index[token_id]) > 10000:\n",
    "            print(len(inverted_index[token_id]))\n",
    "        for doc_idx, score in inverted_index[token_id]:\n",
    "            if doc_idx not in matching_docs:\n",
    "                matching_docs[doc_idx] = 0\n",
    "            #matching_docs[doc_idx] += score*token_score\n",
    "    t2 = time.time()\n",
    "    print(t1-t0, t2-t1)\n",
    "    return matching_docs\n",
    "\n",
    "\n",
    "def get_top_k_similar(relevant_doc_vector, inverted_index, relevant_doc_ids, top_k=10, upper_bound=1.0, lower_bound=0.70):\n",
    "    global sparse_time\n",
    "    # calculate similarity\n",
    "    t1 = time.time()\n",
    "    sim = dot_product_sparse(relevant_doc_vector, inverted_index)\n",
    "    sparse_time += time.time() - t1\n",
    "    return\n",
    "    # set all known relevant documents to -inf\n",
    "    relevant_doc_idx = [doc_ids_inv[doc_id] for doc_id in relevant_doc_ids if doc_id in doc_ids_inv]\n",
    "    sim[0,relevant_doc_idx] = 0.0\n",
    "    # set all documents outside the boundaries to -inf\n",
    "    sim = np.where(np.logical_and(sim <= upper_bound, sim >= lower_bound), sim, 0.0)\n",
    "    # get the top k document ids with the highest similarity, filtering out -inf\n",
    "    top_sims_idx = np.argpartition(sim[0,:], -top_k)[-top_k:]\n",
    "    sims_with_idx = [(doc_ids[idx], s) for idx, s in zip(top_sims_idx, sim[0,:][top_sims_idx]) \n",
    "                     if s != -np.inf]\n",
    "    return sims_with_idx"
   ]
  },
  {
   "cell_type": "code",
   "execution_count": 9,
   "metadata": {},
   "outputs": [
    {
     "name": "stderr",
     "output_type": "stream",
     "text": [
      "100%|██████████| 99623/99623 [00:26<00:00, 3780.84it/s]\n"
     ]
    }
   ],
   "source": [
    "inverted_index = index_sparse_vectors(x)"
   ]
  },
  {
   "cell_type": "code",
   "execution_count": 25,
   "metadata": {},
   "outputs": [
    {
     "name": "stderr",
     "output_type": "stream",
     "text": [
      "  0%|          | 0/367013 [00:00<?, ?it/s]"
     ]
    },
    {
     "name": "stdout",
     "output_type": "stream",
     "text": [
      "10584\n",
      "10685\n",
      "10919\n",
      "15553\n",
      "17740\n",
      "24811\n",
      "21745\n",
      "18898\n",
      "22190\n",
      "15051\n",
      "11417\n",
      "13841\n",
      "18623\n",
      "17295\n",
      "14873\n",
      "20623\n",
      "26262\n",
      "18466\n"
     ]
    },
    {
     "name": "stderr",
     "output_type": "stream",
     "text": [
      "  0%|          | 34/367013 [00:00<1:14:01, 82.63it/s]"
     ]
    },
    {
     "name": "stdout",
     "output_type": "stream",
     "text": [
      "10363\n",
      "11089\n",
      "13424\n",
      "37708\n",
      "16466\n",
      "42770\n",
      "10799\n",
      "23381\n",
      "27262\n",
      "39636\n",
      "13848\n",
      "10111\n",
      "33593\n",
      "16272\n",
      "24285\n",
      "39384\n",
      "22691\n",
      "0.0003273487091064453 0.4091305732727051\n",
      "26103\n",
      "22662\n",
      "17849\n",
      "24811\n",
      "41426\n",
      "21745\n",
      "37226\n",
      "29086\n",
      "18745\n",
      "12841\n",
      "14271\n",
      "10976\n",
      "11640\n",
      "12975\n",
      "12733\n",
      "26975\n",
      "24062\n",
      "15634\n",
      "18801\n",
      "11547\n",
      "20470\n",
      "28186\n",
      "38956\n",
      "12600\n",
      "15363\n",
      "20691\n",
      "38428\n",
      "14861\n",
      "10298\n",
      "26330\n",
      "11922\n",
      "24382\n",
      "10151\n",
      "28849\n",
      "26503\n",
      "47210\n",
      "25175\n",
      "43058\n",
      "12414\n",
      "18148\n",
      "14392\n",
      "13554\n",
      "12755\n",
      "11089\n",
      "18058\n",
      "18777\n",
      "45674\n",
      "25840\n",
      "42770\n",
      "43946\n",
      "12073\n",
      "22731\n",
      "17833\n",
      "41385\n",
      "32291\n",
      "44592\n",
      "36880\n",
      "12184\n",
      "12029\n",
      "18140\n",
      "14456\n",
      "23495\n",
      "11091\n",
      "18608\n",
      "15527\n",
      "13713\n",
      "21801\n",
      "43341\n",
      "45679\n",
      "16931\n",
      "15803\n",
      "28863\n",
      "12396\n",
      "43815\n",
      "32888\n",
      "47640\n",
      "43450\n",
      "25386\n",
      "23240\n",
      "31118\n",
      "46463\n",
      "37585\n",
      "48515\n",
      "39384\n",
      "24455\n",
      "14068\n",
      "23825\n",
      "45298\n",
      "11348\n",
      "29513\n"
     ]
    },
    {
     "name": "stderr",
     "output_type": "stream",
     "text": [
      "  0%|          | 68/367013 [00:01<2:22:32, 42.90it/s]"
     ]
    },
    {
     "name": "stdout",
     "output_type": "stream",
     "text": [
      "10402\n",
      "27469\n",
      "32961\n",
      "28342\n",
      "0.00015997886657714844 1.0563030242919922\n",
      "18747\n",
      "36965\n",
      "17740\n",
      "32106\n",
      "16766\n",
      "37226\n",
      "26975\n",
      "18224\n",
      "38956\n",
      "26330\n",
      "16261\n",
      "24382\n",
      "23107\n",
      "47210\n",
      "11190\n",
      "42770\n"
     ]
    },
    {
     "name": "stderr",
     "output_type": "stream",
     "text": [
      "  0%|          | 74/367013 [00:01<2:54:41, 35.01it/s]"
     ]
    },
    {
     "name": "stdout",
     "output_type": "stream",
     "text": [
      "10867\n",
      "17833\n",
      "14883\n",
      "13351\n",
      "22804\n",
      "20161\n",
      "18277\n",
      "32888\n",
      "24285\n",
      "15069\n",
      "12256\n",
      "29432\n",
      "23825\n",
      "45298\n",
      "19922\n",
      "28342\n",
      "32243\n",
      "0.0002429485321044922 0.3811020851135254\n",
      "14077\n",
      "36965\n",
      "15115\n",
      "24811\n",
      "41426\n",
      "32106\n",
      "37226\n",
      "30647\n",
      "10102\n",
      "22190\n",
      "10718\n",
      "32585\n",
      "24062\n",
      "26116\n",
      "12756\n",
      "28186\n",
      "38956\n",
      "12600\n",
      "20062\n",
      "18415\n",
      "26330\n",
      "11076\n",
      "16261\n",
      "24382\n",
      "31262\n",
      "11342\n",
      "23107\n",
      "26503\n",
      "25175\n",
      "20499\n",
      "10987\n",
      "29199\n",
      "40548\n",
      "33192\n",
      "26262\n",
      "22530\n",
      "18713\n",
      "22807\n",
      "43058\n",
      "47790\n",
      "16466\n",
      "42770\n",
      "22967\n",
      "30480\n",
      "17833\n",
      "41385\n",
      "21572\n",
      "18444\n",
      "25418\n",
      "15438\n",
      "10708\n",
      "21359\n",
      "16042\n",
      "18140\n",
      "27262\n",
      "14798\n",
      "18540\n",
      "22804\n",
      "14916\n",
      "28863\n",
      "44401\n",
      "33955\n",
      "32888\n",
      "47640\n",
      "49699\n",
      "31118\n",
      "46463\n",
      "19519\n"
     ]
    },
    {
     "name": "stderr",
     "output_type": "stream",
     "text": [
      "  0%|          | 87/367013 [00:02<4:17:54, 23.71it/s]"
     ]
    },
    {
     "name": "stdout",
     "output_type": "stream",
     "text": [
      "10077\n",
      "37585\n",
      "12256\n",
      "34530\n",
      "45298\n",
      "28932\n",
      "35864\n",
      "29513\n",
      "33095\n",
      "38418\n",
      "22805\n",
      "10264\n",
      "27469\n",
      "22691\n",
      "28342\n",
      "32243\n",
      "0.00039649009704589844 0.9874193668365479\n",
      "26103\n",
      "17873\n",
      "14553\n",
      "16995\n",
      "12599\n",
      "36965\n",
      "14263\n",
      "14544\n",
      "17740\n",
      "24811\n",
      "41426\n",
      "24117\n",
      "14782\n",
      "37226\n",
      "30647\n",
      "29903\n",
      "10625\n",
      "27095\n",
      "22190\n",
      "15232\n",
      "13776\n",
      "19212\n",
      "11454\n",
      "24856\n",
      "26975\n",
      "18224\n",
      "24848\n",
      "26116\n",
      "14647\n",
      "11340\n",
      "18801\n",
      "11417\n",
      "13841\n",
      "29641\n",
      "14257\n",
      "17295\n",
      "38956\n",
      "20062\n",
      "15363\n",
      "27765\n",
      "11255\n",
      "14716\n",
      "14861\n",
      "26959\n",
      "20556\n",
      "26330\n",
      "24382\n",
      "23107\n",
      "16231\n",
      "26503\n",
      "12270\n",
      "24498\n",
      "38153\n",
      "26262\n",
      "21156\n",
      "14753\n",
      "15311\n",
      "14111\n",
      "22807\n",
      "43058\n",
      "12414\n",
      "18148\n",
      "13554\n",
      "26738\n",
      "10183\n",
      "37708\n",
      "11190\n",
      "47790\n",
      "18777\n",
      "13204\n",
      "29448\n",
      "21439\n",
      "13790\n",
      "11397\n",
      "16095\n",
      "42770\n",
      "12838\n",
      "43946\n",
      "23455\n",
      "10867\n",
      "23381\n",
      "17833\n",
      "18575\n",
      "41385\n",
      "18444\n",
      "34011\n",
      "11087\n",
      "10708\n",
      "11816\n",
      "11374\n"
     ]
    },
    {
     "name": "stderr",
     "output_type": "stream",
     "text": [
      "  0%|          | 161/367013 [00:03<2:31:29, 40.36it/s]"
     ]
    },
    {
     "name": "stdout",
     "output_type": "stream",
     "text": [
      "13167\n",
      "14563\n",
      "14430\n",
      "13803\n",
      "12373\n",
      "16106\n",
      "18540\n",
      "18608\n",
      "18965\n",
      "21801\n",
      "45679\n",
      "13586\n"
     ]
    },
    {
     "name": "stderr",
     "output_type": "stream",
     "text": [
      "\n"
     ]
    },
    {
     "ename": "KeyboardInterrupt",
     "evalue": "",
     "output_type": "error",
     "traceback": [
      "\u001b[0;31m---------------------------------------------------------------------------\u001b[0m",
      "\u001b[0;31mKeyboardInterrupt\u001b[0m                         Traceback (most recent call last)",
      "\u001b[1;32m/home/tfink/projects/rsa/kodicare/kodicare_framework/code/triplets/trec-2019-dl.ipynb Cell 16\u001b[0m line \u001b[0;36m8\n\u001b[1;32m      <a href='vscode-notebook-cell:/home/tfink/projects/rsa/kodicare/kodicare_framework/code/triplets/trec-2019-dl.ipynb#X43sZmlsZQ%3D%3D?line=5'>6</a>\u001b[0m             \u001b[39mcontinue\u001b[39;00m\n\u001b[1;32m      <a href='vscode-notebook-cell:/home/tfink/projects/rsa/kodicare/kodicare_framework/code/triplets/trec-2019-dl.ipynb#X43sZmlsZQ%3D%3D?line=6'>7</a>\u001b[0m         relevant_doc_vector \u001b[39m=\u001b[39m x[doc_ids_inv[pos_doc_id]]\n\u001b[0;32m----> <a href='vscode-notebook-cell:/home/tfink/projects/rsa/kodicare/kodicare_framework/code/triplets/trec-2019-dl.ipynb#X43sZmlsZQ%3D%3D?line=7'>8</a>\u001b[0m         sims \u001b[39m=\u001b[39m dot_product_sparse(relevant_doc_vector, inverted_index)\n\u001b[1;32m      <a href='vscode-notebook-cell:/home/tfink/projects/rsa/kodicare/kodicare_framework/code/triplets/trec-2019-dl.ipynb#X43sZmlsZQ%3D%3D?line=8'>9</a>\u001b[0m         \u001b[39m#print(len(sims))\u001b[39;00m\n\u001b[1;32m     <a href='vscode-notebook-cell:/home/tfink/projects/rsa/kodicare/kodicare_framework/code/triplets/trec-2019-dl.ipynb#X43sZmlsZQ%3D%3D?line=10'>11</a>\u001b[0m \u001b[39mprint\u001b[39m(sparse_time)\n",
      "\u001b[1;32m/home/tfink/projects/rsa/kodicare/kodicare_framework/code/triplets/trec-2019-dl.ipynb Cell 16\u001b[0m line \u001b[0;36m3\n\u001b[1;32m     <a href='vscode-notebook-cell:/home/tfink/projects/rsa/kodicare/kodicare_framework/code/triplets/trec-2019-dl.ipynb#X43sZmlsZQ%3D%3D?line=28'>29</a>\u001b[0m \u001b[39mif\u001b[39;00m \u001b[39mlen\u001b[39m(inverted_index[token_id]) \u001b[39m>\u001b[39m \u001b[39m10000\u001b[39m:\n\u001b[1;32m     <a href='vscode-notebook-cell:/home/tfink/projects/rsa/kodicare/kodicare_framework/code/triplets/trec-2019-dl.ipynb#X43sZmlsZQ%3D%3D?line=29'>30</a>\u001b[0m     \u001b[39mprint\u001b[39m(\u001b[39mlen\u001b[39m(inverted_index[token_id]))\n\u001b[0;32m---> <a href='vscode-notebook-cell:/home/tfink/projects/rsa/kodicare/kodicare_framework/code/triplets/trec-2019-dl.ipynb#X43sZmlsZQ%3D%3D?line=30'>31</a>\u001b[0m \u001b[39mfor\u001b[39;00m doc_idx, score \u001b[39min\u001b[39;00m inverted_index[token_id]:\n\u001b[1;32m     <a href='vscode-notebook-cell:/home/tfink/projects/rsa/kodicare/kodicare_framework/code/triplets/trec-2019-dl.ipynb#X43sZmlsZQ%3D%3D?line=31'>32</a>\u001b[0m     \u001b[39mif\u001b[39;00m doc_idx \u001b[39mnot\u001b[39;00m \u001b[39min\u001b[39;00m matching_docs:\n\u001b[1;32m     <a href='vscode-notebook-cell:/home/tfink/projects/rsa/kodicare/kodicare_framework/code/triplets/trec-2019-dl.ipynb#X43sZmlsZQ%3D%3D?line=32'>33</a>\u001b[0m         matching_docs[doc_idx] \u001b[39m=\u001b[39m \u001b[39m0\u001b[39m\n",
      "\u001b[0;31mKeyboardInterrupt\u001b[0m: "
     ]
    }
   ],
   "source": [
    "triplets = []\n",
    "sparse_time = 0\n",
    "for q_id, relevant_docs in tqdm(relevance_judgements.items()):\n",
    "    for pos_doc_id in relevant_docs:\n",
    "        if pos_doc_id not in doc_ids_inv:\n",
    "            continue\n",
    "        relevant_doc_vector = x[doc_ids_inv[pos_doc_id]]\n",
    "        sims = dot_product_sparse(relevant_doc_vector, inverted_index)\n",
    "        #print(len(sims))\n",
    "\n",
    "print(sparse_time)"
   ]
  },
  {
   "cell_type": "code",
   "execution_count": 23,
   "metadata": {},
   "outputs": [
    {
     "name": "stderr",
     "output_type": "stream",
     "text": [
      "  3%|▎         | 9999/367013 [00:06<04:00, 1483.46it/s]"
     ]
    },
    {
     "name": "stdout",
     "output_type": "stream",
     "text": [
      "6.696434736251831\n"
     ]
    },
    {
     "name": "stderr",
     "output_type": "stream",
     "text": [
      "\n"
     ]
    }
   ],
   "source": [
    "triplets = []\n",
    "sparse_time = 0\n",
    "i = 0\n",
    "for q_id, relevant_docs in tqdm(relevance_judgements.items()):\n",
    "    for pos_doc_id in relevant_docs:\n",
    "        if pos_doc_id not in doc_ids_inv:\n",
    "            continue\n",
    "        relevant_doc_vector = x[doc_ids_inv[pos_doc_id]]\n",
    "        sims_with_idx = get_top_k_similar(relevant_doc_vector=relevant_doc_vector, inverted_index=inverted_index, relevant_doc_ids=relevant_docs, lower_bound=0.40)\n",
    "        continue\n",
    "        sims_with_idx = sorted(sims_with_idx, key=lambda x:x[1], reverse=True)\n",
    "        for neg_doc_id, s in sims_with_idx:\n",
    "            triplets.append(((q_id, pos_doc_id, neg_doc_id), s))\n",
    "    i += 1\n",
    "    if i == 10000:\n",
    "        break\n",
    "\n",
    "print(sparse_time)"
   ]
  },
  {
   "cell_type": "code",
   "execution_count": 16,
   "metadata": {},
   "outputs": [
    {
     "data": {
      "text/plain": [
       "1872"
      ]
     },
     "execution_count": 16,
     "metadata": {},
     "output_type": "execute_result"
    }
   ],
   "source": [
    "print(len(triplets))\n",
    "triplets[:3]"
   ]
  },
  {
   "cell_type": "code",
   "execution_count": 18,
   "metadata": {},
   "outputs": [
    {
     "name": "stdout",
     "output_type": "stream",
     "text": [
      "skipped 365877\n"
     ]
    }
   ],
   "source": [
    "skipped = 0\n",
    "for q_id, relevant_docs in relevance_judgements.items():\n",
    "    sims_with_idx = None\n",
    "    for rel_doc_id in relevant_docs:\n",
    "        if rel_doc_id not in doc_ids_inv:\n",
    "            skipped += 1\n",
    "            continue\n",
    "print(\"skipped\", skipped)"
   ]
  },
  {
   "cell_type": "code",
   "execution_count": 12,
   "metadata": {},
   "outputs": [],
   "source": [
    "def get_documents():\n",
    "    documents = {}\n",
    "    with open(document_file, \"r\") as fp:\n",
    "        for doc_line in fp:\n",
    "            data = doc_line.strip().split(sep=\"\\t\")\n",
    "            if len(data) != 4:\n",
    "                #print(len(data), data)\n",
    "                continue\n",
    "            doc_id, doc_url, doc_title, doc_text = data\n",
    "            documents[doc_id] = doc_text\n",
    "    return documents"
   ]
  },
  {
   "cell_type": "code",
   "execution_count": 13,
   "metadata": {},
   "outputs": [],
   "source": [
    "documents = get_documents()\n",
    "queries = read_queries()"
   ]
  },
  {
   "cell_type": "code",
   "execution_count": 14,
   "metadata": {},
   "outputs": [
    {
     "name": "stdout",
     "output_type": "stream",
     "text": [
      "average speed is defined as\n",
      "===== POS =====\n",
      "['Velocity The average speed of an object is defined as the distance traveled divided by the time elapsed. Velocity is a vector quantity, and average velocity can be defined as the displacement divided by the time. For the special case of straight line motion in the x direction, the average velocity takes the form: The units for velocity can be implied from the definition to be meters/second or in general any distance unit over any time unit. You can approach an expression for the instantaneous velocity at any point on the path by taking the limit as the time interval gets smaller and smaller. Such a limiting process is called a derivative and the instantaneous velocity can be defined as Average velocity, straight line motion Average velocity, general case Index Motion concepts Hyper Physics ***** Mechanics R Nave Go Back']\n",
      "===== NEG =====\n",
      "['Kinematics with Graphs Since you are not allowed to use calculators, SAT II Physics places a heavy emphasis on qualitative problems. A common way of testing kinematics qualitatively is to present you with a graph plotting position vs. time, velocity vs. time, or acceleration vs. time and to ask you questions about the motion of the object represented by the graph. Because SAT II Physics is entirely made up of multiple-choice questions, you won’t need to know how to draw graphs; you’ll just have to interpret the data presented in them. Knowing how to read such graphs quickly and accurately will not only help you solve problems of this sort, it will also help you visualize the often-abstract realm of kinematic equations. In the examples that follow, we will examine the movement of an ant running back and forth along a line. Position vs. Time Graphs Position vs. time graphs give you an easy and obvious way of determining an object’s displacement at any given time, and a subtler way of determining that object’s velocity at any given time. Let’s put these concepts into practice by looking at the following graph charting the movements of our friendly ant. Any point on this graph gives us the position of the ant at a particular moment in time. For instance, the point at (2,–2) tells us that, two seconds after it started moving, the ant was two centimeters to the left of its starting position, and the point at (3,1) tells us that, three seconds after it started moving, the ant is one centimeter to the right of its starting position. Let’s read what the graph can tell us about the ant’s movements. For the first two seconds, the ant is moving to the left. Then, in the next second, it reverses its direction and moves quickly to y = 1. The ant then stays still at y = 1 for three seconds before it turns left again and moves back to where it started. Note how concisely the graph displays all this information. Calculating Velocity We know the ant’s displacement, and we know how long it takes to move from place to place. Armed with this information, we should also be able to determine the ant’s velocity, since velocity measures the rate of change of displacement over time. If displacement is given here by the vector y , then the velocity of the ant is If you recall, the slope of a graph is a measure of rise over run; that is, the amount of change in the y direction divided by the amount of change in the x direction. In our graph, is the change in the y direction and is the change in the x direction, so v is a measure of the slope of the graph. For any position vs. time graph, the velocity at time t is equal to the slope of the line at t. In a graph made up of straight lines, like the one above, we can easily calculate the slope at each point on the graph, and hence know the instantaneous velocity at any given time. We can tell that the ant has a velocity of zero from t = 3 to t = 6 , because the slope of the line at these points is zero. We can also tell that the ant is cruising along at the fastest speed between t = 2 and t = 3 , because the position vs. time graph is steepest between these points. Calculating the ant’s average velocity during this time interval is a simple matter of dividing rise by run, as we’ve learned in math class. Average Velocity How about the average velocity between t = 0 and t = 3 ? It’s actually easier to sort this out with a graph in front of us, because it’s easy to see the displacement at t = 0 and t = 3 , and so that we don’t confuse displacement and distance. Average Speed Although the total displacement in the first three seconds is one centimeter to the right, the total distance traveled is two centimeters to the left, and then three centimeters to the right, for a grand total of five centimeters. Thus, the average speed is not the same as the average velocity of the ant. Once we’ve calculated the total distance traveled by the ant, though, calculating its average speed is not difficult: Curved Position vs. Time Graphs This is all well and good, but how do you calculate the velocity of a curved position vs. time graph? Well, the bad news is that you’d need calculus. The good news is that SAT II Physics doesn’t expect you to use calculus, so if you are given a curved position vs. time graph, you will only be asked qualitative questions and won’t be expected to make any calculations. A few points on the graph will probably be labeled, and you will have to identify which point has the greatest or least velocity. Remember, the point with the greatest slope has the greatest velocity, and the point with the least slope has the least velocity. The turning points of the graph, the tops of the “hills” and the bottoms of the “valleys” where the slope is zero, have zero velocity. In this graph, for example, the velocity is zero at points A and C , greatest at point D, and smallest at point B. The velocity at point B is smallest because the slope at that point is negative. Because velocity is a vector quantity, the velocity at B would be a large negative number. However, the speed at B is greater even than the speed at D : speed is a scalar quantity, and so it is always positive. The slope at B is even steeper than at D , so the speed is greatest at B. Velocity vs. Time Graphs Velocity vs. time graphs are the most eloquent kind of graph we’ll be looking at here. They tell us very directly what the velocity of an object is at any given time, and they provide subtle means for determining both the position and acceleration of the same object over time. The “object” whose velocity is graphed below is our ever-industrious ant, a little later in the day. We can learn two things about the ant’s velocity by a quick glance at the graph. First, we can tell exactly how fast it is going at any given time. For instance, we can see that, two seconds after it started to move, the ant is moving at 2 cm/s. Second, we can tell in which direction the ant is moving. From t = 0 to t = 4, the velocity is positive, meaning that the ant is moving to the right. From t = 4 to t = 7, the velocity is negative, meaning that the ant is moving to the left. Calculating Acceleration We can calculate acceleration on a velocity vs. time graph in the same way that we calculate velocity on a position vs. time graph. Acceleration is the rate of change of the velocity vector,, which expresses itself as the slope of the velocity vs. time graph. For a velocity vs. time graph, the acceleration at time t is equal to the slope of the line at t. What is the acceleration of our ant at t = 2.5 and t = 4? Looking quickly at the graph, we see that the slope of the line at t = 2.5 is zero and hence the acceleration is likewise zero. The slope of the graph between t = 3 and t = 5 is constant, so we can calculate the acceleration at t = 4 by calculating the average acceleration between t = 3 and t = 5: The minus sign tells us that acceleration is in the leftward direction, since we’ve defined the y -coordinates in such a way that right is positive and left is negative. At t = 3 , the ant is moving to the right at 2 cm/s, so a leftward acceleration means that the ant begins to slow down. Looking at the graph, we can see that the ant comes to a stop at t = 4 , and then begins accelerating to the right. Calculating Displacement Velocity vs. time graphs can also tell us about an object’s displacement. Because velocity is a measure of displacement over time, we can infer that: Graphically, this means that the displacement in a given time interval is equal to the area under the graph during that same time interval. If the graph is above the t -axis, then the positive displacement is the area between the graph and the t -axis. If the graph is below the t -axis, then the displacement is negative, and is the area between the graph and the t -axis. Let’s look at two examples to make this rule clearer. First, what is the ant’s displacement between t = 2 and t = 3? Because the velocity is constant during this time interval, the area between the graph and the t -axis is a rectangle of width 1 and height 2. The displacement between t = 2 and t = 3 is the area of this rectangle, which is 1 cm/s s = 2 cm to the right. Next, consider the ant’s displacement between t = 3 and t = 5. This portion of the graph gives us two triangles, one above the t -axis and one below the t -axis. Both triangles have an area of 1 / 2 (1 s ) (2 cm/s ) = 1 cm. However, the first triangle is above the t -axis, meaning that displacement is positive, and hence to the right, while the second triangle is below the t -axis, meaning that displacement is negative, and hence to the left. The total displacement between t = 3 and t = 5 is: In other words, at t = 5 , the ant is in the same place as it was at t = 3. Curved Velocity vs. Time Graphs As with position vs. time graphs, velocity vs. time graphs may also be curved. Remember that regions with a steep slope indicate rapid acceleration or deceleration, regions with a gentle slope indicate small acceleration or deceleration, and the turning points have zero acceleration. Acceleration vs. Time Graphs After looking at position vs. time graphs and velocity vs. time graphs, acceleration vs. time graphs should not be threatening. Let’s look at the acceleration of our ant at another point in its dizzy day. Acceleration vs. time graphs give us information about acceleration and about velocity. SAT II Physics generally sticks to problems that involve a constant acceleration. In this graph, the ant is accelerating at 1 m/s 2 from t = 2 to t = 5 and is not accelerating between t = 6 and t = 7; that is, between t = 6 and t = 7 the ant’s velocity is constant. Calculating Change in Velocity Acceleration vs. time graphs tell us about an object’s velocity in the same way that velocity vs. time graphs tell us about an object’s displacement. The change in velocity in a given time interval is equal to the area under the graph during that same time interval. Be careful: the area between the graph and the t -axis gives the change in velocity, not the final velocity or average velocity over a given time period. What is the ant’s change in velocity between t = 2 and t = 5? Because the acceleration is constant during this time interval, the area between the graph and the t -axis is a rectangle of height 1 and length 3. The area of the shaded region, and consequently the change in velocity during this time interval, is 1 cm/s 2 · 3 s = 3 cm/s to the right. This doesn’t mean that the velocity at t = 5 is 3 cm/s; it simply means that the velocity is 3 cm/s greater than it was at t = 2. Since we have not been given the velocity at t = 2 , we can’t immediately say what the velocity is at t = 5. Summary of Rules for Reading Graphs You may have trouble recalling when to look for the slope and when to look for the area under the graph. Here are a couple handy rules of thumb: The slope on a given graph is equivalent to the quantity we get by dividing the y -axis by the x -axis. For instance, the y -axis of a position vs. time graph gives us displacement, and the x -axis gives us time. Displacement divided by time gives us velocity, which is what the slope of a position vs. time graph represents. The area under a given graph is equivalent to the quantity we get by multiplying the x -axis and the y -axis. For instance, the y -axis of an acceleration vs. time graph gives us acceleration, and the x -axis gives us time. Acceleration multiplied by time gives us the change in velocity, which is what the area between the graph and the x -axis represents. We can summarize what we know about graphs in a table:']\n",
      "[\"Formulas Physics Formulas Kinematics Formulas Acceleration Formula Acceleration Formula You might have observed while pushing a bus it suddenly starts. Lift gives upward push when it starts. This is what acceleration is! Here Velocity changes. Hence the body accelerates. The rate of change of velocity of an object is known as Acceleration. An object's acceleration is the net result of any and all forces acting on the object, as described by Newton's Second Law. Acceleration is a vector quantity that is defined as the rate at which an object changes its velocity. Acceleration is the rate of change in velocity to the change in time. It is represented by symbol a and is given by The S. I unit for Acceleration is meter per second squared or m/s 2. If initial velocity u, final velocity v time taken t are given. Then the acceleration is given by formula Where, v = Final Velocity, u = Initial velocity, a = acceleration, t = time taken, s = distance traveled. Acceleration Problems Back to Top Below are given problems based on acceleration which helps you to get an idea how the formula is used. Solved Examples Question 1: A toy car accelerates from 3m/s to 5m/s in 5 s. What is its acceleration? Solution: Given: Initial Velocity u = 3m/s, Final Velocity v = 5m/s, Time taken t = 5s. The Acceleration is given by a = = = = 0.4 m/s 2. Question 2: A stone is dropped into the river from the bridge. The Stone takes 4s to touch the water surface of the river. Calculate the height of the bridge from the water level. Solution:given: Initial Velocity u = 0 ( as the stone was at rest), Time taken t = 5s, Acceleration due to gravity is a = g = 9.8 m/s 2, Height of bridge = distance traveled by stone = s The distance traveled is given by s = ut + gt 2 = 0 + 9.8 m/s 2 (5s) 2 = 122.5 m. Question 3: John throws a ball up with a velocity of 15 m/s. what is its acceleration if travels a distance of 11.4 m? Solution: Given: Initial velocity u = 15m/s, Final velocity v = 0, Distance traveled s = 11.4 m, To find the acceleration use the formula: v 2 = u 2 + 2as a = = = = -9.8 m/s 2. The retardation is taking place at the rate of gravity. Velocity Formula Momentum Formula More topics in Acceleration Formula Centripetal Acceleration Formula Angular Acceleration Formula Average Acceleration Formula Angular Momentum Formula Deceleration Formula\"]\n"
     ]
    }
   ],
   "source": [
    "print(queries[\"2147\"])\n",
    "print(\"===== POS =====\")\n",
    "print([documents['D2535727']])\n",
    "print(\"===== NEG =====\")\n",
    "print([documents['D2727364']])\n",
    "print([documents['D1246698']])"
   ]
  },
  {
   "cell_type": "code",
   "execution_count": 19,
   "metadata": {},
   "outputs": [
    {
     "name": "stdout",
     "output_type": "stream",
     "text": [
      "actor who played the original chewbacca\n",
      "===== POS =====\n",
      "['\"Peter Mayhew From Wikipedia, the free encyclopedianavigation search For other people named Peter Mayhew, see Peter Mayhew (disambiguation). This article\\'s lead section does not adequately summarize key points of its contents. Please consider expanding the lead to provide an accessible overview of all important aspects of the article. Please discuss this issue on the article\\'s talk page. (January 2015)Peter Mayhew Mayhew at the Florida Super Con, June 2015Born 19 May 1944 (age 73)Barnes, London, England Residence Boyd, Texas, USNationality British, American Occupation Actor Years active 1976–present Known for Playing Chewbacca in the Star Wars franchise Height 7 ft 3 in (221 cm)Spouse (s) Angie Luker (1999–present)Peter Mayhew (born 19 May 1944) [1] is an English-American actor notable for portraying Chewbacca in the Star Wars film series. Contents [ hide ]1 Early life2 Career2.1 Early work2.2 Chewbacca2.3 Other work2.4 Books3 Personal life4 Filmography4.1 Film4.2 Television5 References6 External links Early life [ edit]Mayhew was born on 19 May 1944 in Barnes, South West London, where he was also raised. [1] His height is not a product of gigantism — \"\"I don\\'t have the big head\"\" — but of a connective tissue disorder called Marfan syndrome. [2] [3] His peak height was 7 feet 3 inches (221 cm). [4]Career [ edit]Early work [ edit]Mayhew got his first acting job in 1976 when the producers of Sinbad and the Eye of the Tiger discovered him from a photograph in a newspaper article about men with large feet, and cast him in the role of the minotaur. [5] [6]Chewbacca [ edit]Mayhew at the Big Apple Con, 14 November 2008, sitting in front of an image of Chewbacca When casting his first Star Wars film, producer George Lucas needed a tall actor who could fit the role of the hairy alien Chewbacca. He originally had in mind 6-foot-6-inch (1.98 m) bodybuilder David Prowse, but Prowse chose to play Darth Vader. This led Lucas on a search which turned up Mayhew, who was working as an orderly and said that all he had to do to be cast in the role of Chewbacca was stand up. [ citation needed]Mayhew has played Chewbacca in five Star Wars films: the original trilogy ( Star Wars, The Empire Strikes Back and Return of the Jedi ), Star Wars: Episode III – Revenge of the Sith and Star Wars: The Force Awakens. [7] He played the role in the 1978 television film Star Wars Holiday Special and in an appearance on The Muppet Show. He also recorded dialogue for the Star Wars: The Clone Wars Season 3 finale episode \"\"Wookiee Hunt\"\". [8] [9]Mayhew plays the role in commercials and in hospital appearances for sick children and has made numerous appearances as Chewbacca outside the Star Wars films. Mayhew as Chewbacca was honoured with a Lifetime Achievement Award at the MTV Film Awards 1997. He was additionally honoured at the release of the new Play Station Portable where he dressed as Chewbacca and held up the new PSP slim version. He has made other media appearances without the Chewbacca costume. He appeared on NBC \\'s Identity, where his identity was based on the fact that he played Chewbacca and was a frequent guest in the early days of Slice of Sci Fi. While Mayhew portrayed Chewbacca in Star Wars: The Force Awakens, he was not in Star Wars: The Last Jedi but was listed in the credits as \\'Chewbacca Consultant\\'. [10]. Mayhew retired from playing Chewbacca due to health issues. Joonas Suotamo, who split time with Mayhew on Star Wars: The Force Awakens, took over [11] portraying Chewbacca. [12]Other work [ edit]Outside Star Wars, Mayhew has appeared in the 1978 horror film Terror, directed by Norman J. Warren. In the English version of Dragon Ball GT: A Hero\\'s Legacy, he provided the voice for Susha. He also appeared in Yesterday Was a Lie. [13]Books [ edit]Mayhew has written two books for younger audience: \"\"Growing Up Giant\"\" [14] which explains that being different is a strength instead of a weakness and anti-bullying book for children \"\"My Favorite Giant\"\". [15]Personal life [ edit]Mayhew lives with his wife Mary Angela (\"\"Angie\"\") in Boyd, Texas [16] and is a business owner. He became a naturalised citizen of the United States in 2005 at a ceremony in Arlington, Texas. [17] In an interview with the Fort Worth Star-Telegram he joked that he did not get a medal at this ceremony either, a reference to the Star Wars scene in which Luke and Han get medals but Chewbacca does not. Mayhew noted in an MTV interview that although Chewbacca does not get a medal in the film, he does get the last line, when he roars. [18]Mayhew underwent double knee replacement surgery in 2013. [19] In January 2015, Mayhew was briefly hospitalised near his home in Texas, due to a bout of pneumonia. [20] [21]Filmography [ edit]Film [ edit]Year Title Role Notes Ref.1977 Sinbad and the Eye of the Tiger Minotaur Uncredited [5]Star Wars Chewbacca [7]1978 Terror The Mechanic1980 The Empire Strikes Back Chewbacca [7]1982 Return of the Ewok Video short1983 Return of the Jedi [7]1987 Star Tours Short, uncredited2004 Comic Book: The Movie Himself2005 Star Wars: Episode III – Revenge of the Sith Chewbacca [7]2008 Yesterday Was a Lie Dead Man [13]2015 Star Wars: Episode VII – The Force Awakens Chewbacca Shared role with Joonas Suotamo [7]2017 Star Wars: Episode VIII – The Last Jedi Chewbacca Consultant [10]Television [ edit]Year Title Role Notes1977 Donny & Marie Chewbacca Episode # 3.11978 Star Wars Holiday Special TV Special1980 The Muppet Show Episode: The Stars of Star Wars1981 Dark Towers The Tall Knight 5 episodes1985 The Kenny Everett Television Show Various Episode #3.32011 Star Wars: The Clone Wars Chewbacca Episode: Wookiee Hunt, voice Glee Episode: Extraordinary Merry Christmas References [ edit]^ a b \"\"Entertainment\"\". Washington (PA) Observer-Reporter. 19 May 2009. p. C6.^ Karl Quinn (12 April 2014). \"\"Star Wars actor Peter Mayhew in Melbourne for Supernova fan convention\"\". The Sydney Morning Herald. Retrieved 12 April 2014.^ Vankin, Jonathan (20 January 2015). \"\" \\' Star Wars\\' actor, Peter \\'Chewbacca\\' Mayhew, 70, stricken with pneumonia – sends fans message from hospital\"\". Inquisitr. Retrieved 21 December 2015.^ \"\"Peter Mayhew\"\". Petermayhew.com. Archived from the original on 10 May 2008.^ a b Clark, Mark (2015). Star Wars FAQ: Everything Left to Know About the Trilogy That Changed the Movies. Applause Theatre & Cinema Books. ISBN 978-1480360181.^ Hutchinson, Sean (19 May 2015). \"\"15 Chewbacca Facts in Honour of Peter Mayhew\\'s Birthday\"\". Mental Floss. Retrieved 21 December 2015.^ a b c d e f Ben Child (8 April 2014). \"\"Original Chewbacca actor set to return in Star Wars: Episode VII\"\". The Guardian. Retrieved 22 May 2016.^ Remaking Wookiee: Chewbacca Becomes a Character on \\'Star Wars: The Clone Wars\\', retrieved 31 May 2011^ The Clone Wars Episode Guide: Wookiee Hunt, Star Wars.com, retrieved 1 April 2011^ a b \"\"Star Wars: The Last Jedi - full credits\"\". IMDB. Retrieved 6 January 2018.^ Rebecca Hawkes (6 January 2016). \"\"The \\'secret\\' Chewbacca: meet the 6\\'11\"\" basketball star who shared the role with Peter Mayhew in Star Wars: The Force Awakens\"\". The Telegraph. Retrieved 11 June 2017.^ http://movieweb.com/star-wars-force-awakens-chewbacca-actor-joonas-suotamo/^ a b Martin Chilton (4 May 2011). \"\"Ewoks, sex dolls and comedy: what happened to the Star Wars cast\"\". The Telegraph. Retrieved 11 June 2017.^ Peter Mayhew; Angie Mayhew (19 November 2013). My Favorite Giant. One Mans Posse Production. ISBN 978-1-62098-826-8.^ My Favorite Giant by Peter Mayhew (Chewbacca), by Carrie Goldman^ Malone, Megan (9 February 2012). \"\"Chewbacca Making Dallas-Area Appearances\"\" NBC 5 Dallas-Fort Worth\"\". KXAS-TV.^ \"\"Star Wars actor who played Chewbacca to become American citizen\"\". The Canadian Press. 12 October 2005. p. 16.^ \"\"\\'Star Wars\\' actor, others pledge their allegiance\"\", Fort Worth Star-Telegram, People Watch, Metro Section, page B2, 18 October 2005.^ \"\"Wookie knee repair: \\'Star Wars\\' actor Peter Mayhew hopes to walk again after Fort Worth surgery\"\". The Dallas Morning News. 11 September 2013^ Sacks, Ethan (19 January 2015). \"\"‘Star Wars’ star Peter Mayhew hospitalized for pneumonia: report \"\". Daily News (New York).^ Parker, Ryan (19 January 2015). \"\"\\'Star Wars\\' actor Peter Mayhew hospitalized with pneumonia \"\". Los Angeles Times. External links [ edit]Wikimedia Commons has media related to Peter Mayhew. Wikiquote has quotations related to: Peter Mayhew Peter Mayhew on IMDb Star Wars bio Interview with Peter Mayhew on Slice of Sci Fi (starts at 36:55 of show)Interview with Peter Mayhew on Monster Island News Star Wars: the Last Jedi Full credits on IMDBAuthority control World Cat Identities VIAF: 315534422 LCCN: no97051934Categories:1944 births American male television actors American male voice actors American male film actors English emigrants to the United States English male television actors English male voice actors Living people People from Barnes, London 20th-century English male actors 21st-century English male actors Male actors from London People from Wise County, Texas \"']\n",
      "===== NEG =====\n",
      "['\"in: Canon articles, All Terrain Armored Transports, All Terrain variants, Imperial vehicles All Terrain Armored Transport Edit Share All Terrain Armored Transport Production information Manufacturer Kuat Drive Yards [1]Class Combat walker [2]Models All Terrain Armored Transport (early rebellion against the Empire) [3]All Terrain Armored Transport (Galactic Civil War) [4]Elite AT-AT [5]First Order All Terrain Armored Transport [6]Usage Role (s)Military Walker [4]Mechanized infantry [4]Self-propelled artillery [4]Troop transport [4]Year introduced During or prior to 18 BBY [7]Affiliation Galactic Empire [2]Alliance to Restore the Republic [5]First Order [6] [Source]\"\" They\\'re the most heavily armored ground vehicles in the Imperial Army. \"\" \"\" ...so what you\\'re saying is that you have a thorough knowledge of just how screwed we are. \"\"― Thane Kyrell and Yendor, just before the Battle of Hoth [src]The All Terrain Armored Transport ( AT-AT) was a four-legged combat walker used by the ground forces of the Galactic Empire. With the Imperial -class Star Destroyer and the TIE fighter, it was one of the most famous symbols of the Empire\\'s military might. Contents [ show]Models Edit Early model Edit Main article: All Terrain Armored Transport (early rebellion against the Empire)This model was used against the early rebellion. [3]Later model Edit Main article: All Terrain Armored Transport (Galactic Civil War)This model was used during the Galactic Civil War. [4]Elite AT-AT Edit Main article: Elite AT-ATThis was a more heavily-armored variant with a darker color scheme. [5]First Order AT-AT Edit Main article: First Order All Terrain Armored Transport This was an upgraded version of the AT-AT used by the First Order. [6]History Edit Age of the Empire Edit\"\" I heard of these. Imperial armored transports. Giant four-legged things that were used to keep the peace on conquered worlds. \"\"― Scoggan, to Davjan Igo upon entering the ruins of an AT-AT [src]The AT-AT walker was developed for use in the Imperial Army, the ground forces of the Galactic Empire. It was the successor of the All Terrain Tactical Enforcer that saw use during the Clone Wars, [8] although it constituted a far more imposing example of walker technology. [2] Heavily armored and awe-inducing, the AT-AT positioned itself as the standard of Imperial firepower on the battlefield. [9]In 4 BBY, [10] the Imperial Security Bureau Agent Kallus led three early AT-AT walkers on an assault on the desert planet of Seelos against the Spectres and three retired clone officers aboard an AT-TE. [3]AT-ATs were used again in 3 BBY against the Spectres, when Princess Leia Organa arrived on the planet to give the Ghost\\'s crew three Sphyrna -class corvettes. Two walkers were deployed to patrol the transports\\' landing platform, which were formally on Lothal to offer supplies to citizens impacted by the rebel efforts. When the rebels tried to steal the corvettes, the Ghost started firing on the AT-ATs. Four proton torpedos were not powerful enough to destroy one of the walkers, and it was necessary for Kanan Jarrus to use his lightsaber to cut its legs, toppling it. The second one was knocked down by the engines of the last Hammerhead, piloted by Ryder Azadi. [11]In 2 BBY, Lieutenant Yogar Lyste deployed two AT-AT walkers, Walker 271 and Walker 414, to combat an attack on the east gate of the Imperial Armory Complex by members of the Lothal resistance led by Ryzder Azadi. The rebels Kanan, Ezra Bridger, and Chopper escaped in the stolen AT-DP Walker 216. However, Grand Admiral Thrawn realized that the rebels had hijacked the AT-DP walker and ordered his AT-ATs to crush them. One of the AT-AT walkers proceeded to crush the AT-DP under its heavy body but the rebels managed to use their lightsabers to cut their way aboard. Morad Sumar also fired a rocket which hit one of the walker\\'s legs. After knocking out the AT-AT pilots, the two climbed out and escaped with Ryder\\'s cell into the wilderness. [12]Thrawn then deployed four of these during the battle on Atollon. Jedi survivor Kanan Jarrus then destroyed one with his lightsaber. The Force wielder, the Bendu then destroyed two of the AT-AT walkers. However, the last one was able to shoot Bendu down from the sky. [13]Galactic Civil War Edit\"\" That armor\\'s too strong for blasters. Rogue group, use your harpoons and tow cables. Go for the legs; it might be our only chance of stopping them. \"\"― Luke Skywalker, during the Battle of Hoth [src]The stolen AT-AT on Cymoon 1Around the time of the Battle of Yavin, a new AT-AT model was introduced. At this time, the Alliance to Restore the Republic stole a number of AT-ATs and provided them to Saponza\\'s Gang. [5]During the Rebel assault on the Imperial weapons factory moon of Cymoon 1, a group of Rebels led by Han Solo and Leia Organa stole an AT-AT from Weapons Factory Alpha. They used the walker to escape from the factory after they sabotaged its main power core to explode. During their escape, Solo fired a shot that nearly killed the Sith Lord Darth Vader, using the AT-AT\\'s powerful quad laser cannons. [14] Soon after, Vader managed to overtake the Rebels in their escape and cut down the massive walker\\'s back-left leg. The AT-AT fell tremendously and its passengers barely managed to escape the wreckage; [15] before fleeing Cymoon 1 entirely for the safety of the Alliance Fleet [16]Three AT-ATs attacking Echo Base. During the Battle of Hoth, General Maximillian Veers led a squadron of at least five AT-ATs on the icy fields of Hoth to knock out the shieldgenerator that protected Echo Base, the Rebel headquarters. The triumph of Veers\\' squadron allowed the Imperials to invade Echo Base and rout the Rebels, striking a major blow in the war. However, the battle also revealed that the AT-ATs could be toppled by a cable wrapped around their legs. Although that weakness had been used effectively by the Alliance on Hoth, [4] the Empire continued to use these mechanical behemoths in the later stages of the war, [17] employing them in several skirmishes on Tatooine. [5]In 5 ABY, [18] at least one AT-AT walker was stationed at Camp Sardo on the planet Kashyyyk. During the Liberation of Kashyyyk, several Wookiee guerrilla fighters, including Kirratha, hijacked the AT-AT walker and threw out the crew. [19] Shortly later, AT-ATs were deployed against New Republic forces during the Battle of Jakku. [20]Rise of the First Order Edit Decades after the war\\'s conclusion, a young scavenger named Rey used one of the downed AT-ATs, designated Hellhound Two, as her home on Jakku. [21]The First Order used an upgraded version of the AT-AT as an escort to its newer AT-M6s. [6]Behind the scenes Edit AT-AT concept art by Ralph Mc Quarrie The names \"\"All Terrain Armored Transport\"\" or \"\"AT-AT\"\" is never spoken in any of the films. Instead, the machines are referred to as \"\"Imperial walkers.\"\" The AT-ATs used in The Empire Strikes Back [4] and the brief appearance in Return of the Jedi [17] were created with the use of stop-motion animation. Initially, the Empire was to attack the Rebel base on Hoth using tanks. [22] Joe Johnston created many designs of these vehicles, [23] one of which was the basis for the HAVw A6 Juggernaut that appeared in Star Wars: Episode III Revenge of the Sith and the HAVw A5 Juggernaut in Star Wars Legends, [22] and the tanks themselves were to be portrayed by remote controlled vehicles. However, Dennis Muren and Joe Johnston convinced George Lucas to use stop motion instead, [23] which later eventually lead to the abandonment of the tank design. [22] In the DVD commentary to The Empire Strikes Back, George Lucas explains that he got the idea of the AT-AT from the massive tripods from H. G. Wells \\' 1898 novel The War of the Worlds. [24] Though it is popularly believed that dock machinery was the inspiration for the AT-AT, Phil Tippett has said otherwise, recalling that it was based on the prehistoric mammal Baluchitherium. [25] The AT-ATs featured in Star Wars Rebels series are different models than the ones in the Star Wars films, inspired by the early concept arts drawn by Ralph Mc Quarrie during the production of The Empire Strikes Back. [26]Appearances Edit Star Wars: Galactic Defense Star Wars Battlefront IIForces of Destiny: Daring Adventures: Volume 1 (Wreckage only)Darth Vader: Dark Lord of the Sith 13: Burning Seas, Part IDarth Vader: Dark Lord of the Sith 14: Burning Seas, Part IILords of the Sith (Cover only)Lost Stars Lost Stars webcomic A New Dawn (Mentioned only)Star Wars Rebels – \"\" Empire Day \"\" (Appears in hologram)Star Wars Rebels – \"\" Relics of the Old Republic \"\"\"\" Vulnerable Areas \"\"— Star Wars Rebels Magazine 17Star Wars Rebels – \"\" A Princess on Lothal \"\"Star Wars Rebels: Special Ops Star Wars Rebels – \"\" The Last Battle \"\"Star Wars Rebels – \"\" An Inside Man \"\"Star Wars Rebels – \"\" Zero Hour \"\"Star Wars Rebels – \"\" Jedi Night \"\"Star Wars Rebels – \"\" DUME \"\" (Wreckage only)Star Wars Rebels – \"\" A Fool\\'s Hope \"\"Rogue One: A Star Wars Story novelization (Indirect mention only)The Adventures of Luke Skywalker, Jedi Knight Star Wars: The Original Trilogy – A Graphic Novel Star Wars: Battle Pod Star Wars 1: Skywalker Strikes Star Wars 2: Skywalker Strikes, Part IIStar Wars 3: Skywalker Strikes, Part IIIStar Wars 4: Skywalker Strikes, Part IV (Mentioned only)Darth Vader 3: Vader, Part III (Appears on poster)Darth Vader 16: The Shu-Torun War, Part IDarth Vader 17: The Shu-Torun War, Part IIDarth Vader 19: The Shu-Torun War, Part IVStar Wars Battlefront Star Wars: Commander Doctor Aphra 2: Aphra, Part IIDoctor Aphra 3: Aphra, Part IIIDoctor Aphra 4: Aphra, Part IVStar Wars 33: Rebels in the Wild Battlefront: Twilight Company Star Wars: Episode V The Empire Strikes Back (First appearance)The Empire Strikes Back: So You Want to Be a Jedi? Star Wars: The Empire Strikes Back junior novelization AT-AT Attack!Star Wars: Episode VI Return of the Jedi Return of the Jedi: Beware the Power of the Dark Side!Star Wars: Return of the Jedi junior novelization Shattered Empire, Part IIAftermath (Wreckage only)Star Wars: Uprising Aftermath: Life Debt\"\" Blade Squadron: Kuat \"\"— Star Wars Insider 168Aftermath: Empire\\'s End The Legends of Luke Skywalker (Wreckage only)\"\" True Love \"\" (Wreckage only)\"\" Better the Devil You Know, Part I \"\"— Star Wars Adventures 1 (Wreckage only)\"\" Better the Devil You Know, Part II \"\"— Star Wars Adventures 2 (Wreckage only)Before the Awakening (Wreckage only)Poe Dameron 8: The Gathering Storm, Part I (Appears in flashback (s))\"\" Destroyer Down \"\"— Star Wars Adventures: Destroyer Down (Wreckage only)Star Wars: Episode VII The Force Awakens (Wreckage only)Star Wars: The Force Awakens novelization (Wreckage only)Star Wars: The Force Awakens: A Junior Novel (Wreckage only)The Force Awakens: Rey\\'s Story (Wreckage only)Finn & Rey Escape! (Wreckage only)Star Wars: The Force Awakens Graphic Novel Adaptation (Wreckage only)The Force Awakens, Part I (Wreckage only)Star Wars Adventures: Forces of Destiny: Rey (Wreckage only)Star Wars: Forces of Destiny – \"\" Sands of Jakku \"\" (Wreckage only)Star Wars: Forces of Destiny – \"\" BB-8 Bandits \"\" (Wreckage only)Rey\\'s Survival Guide Star Wars: Episode VIII The Last Jedi Star Wars: The Last Jedi: Expanded Edition Non-canon appearances Edit Star Wars: Galaxy of Heroes Star Wars Epic Yarns: The Empire Strikes Back LEGO Star Wars: The Freemaker Adventures – \"\" Showdown on Hoth \"\"LEGO Star Wars: The Freemaker Adventures – \"\" Return of the Kyber Saber \"\"LEGO Star Wars: The Freemaker Adventures – \"\" A Perilous Rescue \"\"LEGO Star Wars: The Resistance Rises – \"\" Rey Strikes Back \"\" (Mentioned only)LEGO Star Wars: The Resistance Rises – \"\" Attack of the Conscience \"\"LEGO Star Wars: The Force Awakens Sources Edit AT-AT walker in the Encyclopedia (link now obsolete; backup link)AT-ST walker in the Encyclopedia (link now obsolete; backup link)AT-TE walker in the Encyclopedia (link now obsolete; backup link)SDCC 2014: \"\"The Heroes of Star Wars Rebels \"\" Panel – Liveblog on Star Wars.com Classic Star Wars (Set: 75075 AT-AT)We\\'ve Spotted Imperial Walkers: A History of Legged War Machines on Star Wars.com Star Wars: Galactic Defense on Star Wars.com ( backup link)Ultimate Star Wars Star Wars: Absolutely Everything You Need to Know Star Wars: Ships of the Galaxy Star Wars: The Force Awakens: The Visual Dictionary Star Wars Character Encyclopedia: Updated and Expanded Star Wars: Complete Locations Star Wars: Galactic Atlas Star Wars: Rogue One: The Ultimate Visual Guide Star Wars: Rogue One: Rebel Dossier Star Wars: Rogue One: AT-ACT Deluxe Book and 3D Wood Model Star Wars: The Visual Encyclopedia Star Wars: On the Front Lines Star Wars: Forces of Destiny: Meet the Heroes Forces of Destiny: Tales of Hope & Courage Star Wars: The Rebel Files Star Wars: The Last Jedi: The Visual Dictionary Star Wars: The Last Jedi: Incredible Cross-Sections Star Wars: The Last Jedi: Ultimate Sticker Collection Star Wars Encyclopedia of Starfighters and Other Vehicles AT-ACT walker in the Databank ( backup link)AT-AT Walker (All Terrain Armored Transport) in the Databank ( backup link)AT-ST Walker in the Databank ( backup link)Echo Base in the Databank ( backup link)First Order AT-AT Walker in the Databank ( backup link)Galactic Empire in the Databank ( backup link)General Veers in the Databank ( backup link)Goazon Badlands in the Databank ( backup link)Rebel Alliance history gallery in the Databank ( backup link); image #11 (of 16)Rebel Pilots biography gallery in the Databank ( backup link); image #10 (of 15)Rey\\'s Home in the Databank ( backup link)Stormtroopers in the Databank ( backup link)Notes and references Edit↑ AT-AT. Star Wars Rebels ( October 25, 2015 , 5:55 pm). Retrieved on October 25, 2015 , 11:55 pm. \"\"The iconic behemoth of the battlefield.\"\" ( screenshot)↑ 2.0 2.1 2.2 AT-AT walker in the Encyclopedia (link now obsolete; backup link)↑ 3.0 3.1 3.2 Star Wars Rebels – \"\" Relics of the Old Republic \"\"↑ 4.0 4.1 4.2 4.3 4.4 4.5 4.6 4.7 Star Wars: Episode V The Empire Strikes Back↑ 5.0 5.1 5.2 5.3 5.4 Star Wars: Commander↑ 6.0 6.1 6.2 6.3 Star Wars: Episode VIII The Last Jedi↑ Darth Vader: Dark Lord of the Sith 14: Burning Seas, Part II↑ AT-TE walker in the Encyclopedia (link now obsolete; backup link)↑ AT-ST walker in the Encyclopedia (link now obsolete; backup link)↑ The events of this article take place in or between \"\" Empire Day ,\"\" which marks the beginning of the fourth year before the Battle of Yavin; and \"\" A Princess on Lothal ,\"\" which is the first known episode to take place in the third year before the Battle of Yavin. As such, we can deduce that this event takes place in the fourth year before the Battle of Yavin. For more information, see Wookieepedia\\'s Timeline of Star Wars Rebels Events.↑ Star Wars Rebels – \"\" A Princess on Lothal \"\"↑ Star Wars Rebels – \"\" An Inside Man \"\"↑ Star Wars Rebels – \"\" Zero Hour \"\"↑ Star Wars 2: Skywalker Strikes, Part II↑ Star Wars 3: Skywalker Strikes, Part III↑ Star Wars 4: Skywalker Strikes, Part IV↑ 17.0 17.1 Star Wars: Episode VI Return of the Jedi↑ Star Wars: Galactic Atlas dates the Battle of Endor to 4 ABY and the events of Shattered Empire, Part IV, which take place three months after the battle, to 5 ABY. Furthermore, the novel Aftermath states that months have passed since the Battle of Endor, while Aftermath: Life Debt begins two months after the end of Aftermath. Therefore, the events of Aftermath: Life Debt begin at least four months after the Battle of Endor, which corresponds to 5 ABY. Additionally, Galactic Atlas dates the Battle of Jakku, as depicted in Life Debt \\' s sequel, Aftermath: Empire\\'s End, to 5 ABY as well, thereby firmly placing Aftermath: Life Debt in 5 ABY.↑ Aftermath: Life Debt↑ Lost Stars↑ Star Wars: Episode VII The Force Awakens↑ 22.0 22.1 22.2 Clone turbo tank in the Databank (content now obsolete; backup link)↑ 23.0 23.1 Phil Tippett: Hands-On Effects on Star Wars.com (content now obsolete; backup link)↑ Star Wars Episode V: The Empire Strikes Back DVD commentary↑ Watercutter, Angela (May 24, 2012). 35 Years After Star Wars, Effects Whiz Phil Tippett Is Slowly Crafting a Mad God. http://www.wired.com. Wired. Archived from the original on June 17, 2016. Retrieved on August 14, 2016.↑ Relics of the Old Republic Trivia Gallery on Star Wars.com External links Edit AT-AT. Star Wars Rebels ( October 25, 2015 , 5:55 pm). Retrieved on October 25, 2015 , 11:55 pm. \"\"The iconic behemoth of the battlefield.\"\" ( screenshot)In other languagesΕλληνικά Español 한국어 Polski Русский УкраїнськаCategories: Canon articles All Terrain Armored Transports All Terrain variants Imperial vehicles \"']\n",
      "['\"History Stories The Real History That Inspired “Star Wars”History Stories The Real History That Inspired “Star Wars”By Christopher Klein// December 17, 2015Star Wars Toys Take Over See how a galaxy far, far away prompted an unprecedented rush for holiday toys in this scene from \"\"Christmas Through the Decades: The \\'70s. \"\"Print Cite Filmmaker George Lucas may have set “Star Wars” in a galaxy far, far away, but real-life characters and events from this planet’s history inspired his creation of the sci-fi saga. Explore how history—some of it a long time ago and some much more recent—has been a powerful force in shaping one of Hollywood’s top movie franchises. When George Lucas developed the storyline for “Star Wars” and crafted his heroes and villains, he tapped into elements of theology, mysticism and mythology as well as his knowledge of classic films. And befitting a story set a “long time ago,” real-life history also played a central role in shaping the filmmaker’s space opera. George Lucas attends the European Premiere of “Star Wars: The Force Awakens.” (Credit: Karwai Tang/Wire Image)“I love history, so while the psychological basis of ‘Star Wars’ is mythological, the political and social bases are historical,” Lucas told the Boston Globe in a 2005 interview. In fact, the filmmaker is such a history buff that he collaborated in the publication of the 2013 book “Star Wars and History,” which was edited by history professors Nancy R. Reagin and Janice Liedl. Written by a dozen leading historians and reviewed and confirmed by Lucas, “Star Wars and History” identifies the numerous real-life figures and events that inspired the science-fiction franchise, including the following: Nazi Germany There’s nothing subtle about this historical allusion in “Star Wars.” After all, the elite assault forces fanatically devoted to the Galactic Empire share a common name with the paramilitary fighters who defended the Nazi Party—stormtroopers. The Imperial officers’ uniforms and even Darth Vader’s helmet resemble those worn by German Army members in World War II, and the gradual rise of Palpatine from chancellor to emperor mirrored Adolf Hitler’s similar political ascent from chancellor to dictator. The Empire wasn’t the only side in “Star Wars” that cribbed Nazi imagery, however. The final scene of the original 1977 “Star Wars” in which Princess Leia awards medals to Rebel heroes Luke Skywalker and Han Solo while soldiers stood at attention echoed the massive Nazi rallies in Nuremberg captured in Leni Riefenstahl’s 1935 propaganda film “Triumph of the Will.”Poster for “Star Wars.” (Credit: Universal History Archive/UIG via Getty images)Richard Nixon Although there are parallels between Emperor Palpatine and dictators such as Hitler and Napoleon Bonaparte, the direct inspiration for the saga’s evil antagonist was actually an American president. According to J. W. Rinzler’s “The Making of Star Wars: Return of the Jedi,” when asked if Emperor Palpatine was a Jedi during a 1981 story conference, Lucas responded, “No, he was a politician. Richard M. Nixon was his name. He subverted the senate and finally took over and became an imperial guy and he was really evil. But he pretended to be a really nice guy.” In a 2005 interview published in the Chicago Tribune, Lucas said he originally conceived “Star Wars” as a reaction to Nixon’s presidency. “It was really about the Vietnam War, and that was the period where Nixon was trying to run for a [second] term, which got me to thinking historically about how do democracies get turned into dictatorships? Because the democracies aren’t overthrown; they’re given away.”Vietnam War The guerilla war waged by the Rebel Alliance against the Galactic Empire mirrored the battle between an insurgent force and a global superpower that was playing out in Vietnam as Lucas wrote “Star Wars”. The filmmaker, who was originally set to direct to the Vietnam War film “Apocalypse Now” in the early 1970s before moving on to “Star Wars,” said in an audio commentary on the 2004 re-release of “Return of the Jedi” that the Viet Cong served as his inspiration for the furry forest-dwelling Ewoks, who were able to defeat a vastly superior opponent in spite of their primitive weapons. As William J. Astore writes in “Star Wars and History,” both the Viet Cong and Ewoks were well-served by their “superior knowledge of the local terrain and an ability to blend into that terrain.”Credit: Universal History Archive/UIG via Getty images Ancient Rome The political institutions of “Star Wars”—such as the Senate, Republic and Empire—and the pseudo-Latin names of characters such as chancellors Valorum and Palpatine echo those of ancient Rome. As Tony Keen notes in “Star Wars and History,” the architecture on the planet Naboo resembles that of imperial Rome, and the pod race in “The Phantom Menace” rivals that of the Roman chariot race seen on screen in “Ben-Hur.” The transition from the democratic Galactic Republic to the dictatorial Galactic Empire over the course of the franchise also mirrors that of ancient Rome. “It is plain that the basic structure of Lucas’s history derives from the fall of the Roman Republic and the subsequent establishment of a monarchy,” Keen writes. Knights Templar While the elite Jedi—who guard peace and justice in the Galactic Republic—bear similarities to Japanese samurai and Shaolin monks, they also echo the medieval monastic military order of the Knights Templar. The Templars, writes Terrance Mac Mullan in “Star Wars and History,” “were esteemed above other knights for their austerity, devotion, and moral purity. Like the Jedi, they practiced individual poverty within a military-monastic order that commanded great material resources.” A 12-member council of elders headed by a grand master governed both the Jedi and the Templars, and Jedi clothing even resembled the hooded white robes worn by the Christian warrior-monks who took vows of poverty, chastity and obedience. Much like the Great Jedi Purge ordered by Chancellor Palpatine in “Revenge of the Sith,” France’s King Philip IV annihilated the Knights Templar after arresting hundreds of them on October 13, 1307, and subsequently torturing and executing them for heresy. Credit: Getty Images Cold War The tense relationship between the United States and the Soviet Union, with the threat of nuclear annihilation lurking in the background, was hardly history when “Star Wars” first premiered in 1977. The threat to the planet posed by nuclear weapons was encapsulated on screen in the ultimate weapon of mass destruction—the Death Star—which destroyed Princess Leia’s home planet of Alderaan, a blue orb that closely resembled Earth. “Star Wars” itself entered the realm of Cold War history after it was adopted by the media in the 1980s as a nickname for President Ronald Reagan’s proposed Strategic Defense Initiative, which would have used lasers to defend the United States against incoming nuclear missiles. \"']\n"
     ]
    }
   ],
   "source": [
    "print(queries[\"10896\"])\n",
    "print(\"===== POS =====\")\n",
    "print([documents['D1516301']])\n",
    "print(\"===== NEG =====\")\n",
    "print([documents['D1820079']])\n",
    "print([documents['D2264553']])"
   ]
  },
  {
   "cell_type": "code",
   "execution_count": null,
   "metadata": {},
   "outputs": [],
   "source": []
  }
 ],
 "metadata": {
  "kernelspec": {
   "display_name": "kodicare",
   "language": "python",
   "name": "python3"
  },
  "language_info": {
   "codemirror_mode": {
    "name": "ipython",
    "version": 3
   },
   "file_extension": ".py",
   "mimetype": "text/x-python",
   "name": "python",
   "nbconvert_exporter": "python",
   "pygments_lexer": "ipython3",
   "version": "3.8.16"
  },
  "orig_nbformat": 4
 },
 "nbformat": 4,
 "nbformat_minor": 2
}
