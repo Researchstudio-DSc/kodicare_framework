{
 "cells": [
  {
   "cell_type": "code",
   "execution_count": 1,
   "metadata": {},
   "outputs": [
    {
     "name": "stderr",
     "output_type": "stream",
     "text": [
      "/home/tfink/miniconda3/envs/bertopic/lib/python3.9/site-packages/umap/distances.py:1063: NumbaDeprecationWarning: The 'nopython' keyword argument was not supplied to the 'numba.jit' decorator. The implicit default value for this argument is currently False, but it will be changed to True in Numba 0.59.0. See https://numba.readthedocs.io/en/stable/reference/deprecation.html#deprecation-of-object-mode-fall-back-behaviour-when-using-jit for details.\n",
      "  @numba.jit()\n",
      "/home/tfink/miniconda3/envs/bertopic/lib/python3.9/site-packages/umap/distances.py:1071: NumbaDeprecationWarning: The 'nopython' keyword argument was not supplied to the 'numba.jit' decorator. The implicit default value for this argument is currently False, but it will be changed to True in Numba 0.59.0. See https://numba.readthedocs.io/en/stable/reference/deprecation.html#deprecation-of-object-mode-fall-back-behaviour-when-using-jit for details.\n",
      "  @numba.jit()\n",
      "/home/tfink/miniconda3/envs/bertopic/lib/python3.9/site-packages/umap/distances.py:1086: NumbaDeprecationWarning: The 'nopython' keyword argument was not supplied to the 'numba.jit' decorator. The implicit default value for this argument is currently False, but it will be changed to True in Numba 0.59.0. See https://numba.readthedocs.io/en/stable/reference/deprecation.html#deprecation-of-object-mode-fall-back-behaviour-when-using-jit for details.\n",
      "  @numba.jit()\n",
      "/home/tfink/miniconda3/envs/bertopic/lib/python3.9/site-packages/tqdm/auto.py:21: TqdmWarning: IProgress not found. Please update jupyter and ipywidgets. See https://ipywidgets.readthedocs.io/en/stable/user_install.html\n",
      "  from .autonotebook import tqdm as notebook_tqdm\n",
      "/home/tfink/miniconda3/envs/bertopic/lib/python3.9/site-packages/umap/umap_.py:660: NumbaDeprecationWarning: The 'nopython' keyword argument was not supplied to the 'numba.jit' decorator. The implicit default value for this argument is currently False, but it will be changed to True in Numba 0.59.0. See https://numba.readthedocs.io/en/stable/reference/deprecation.html#deprecation-of-object-mode-fall-back-behaviour-when-using-jit for details.\n",
      "  @numba.jit()\n"
     ]
    }
   ],
   "source": [
    "from bertopic import BERTopic\n",
    "import glob\n",
    "import time\n",
    "import random\n",
    "import re\n",
    "from tqdm import tqdm\n",
    "import umap\n",
    "import hdbscan\n",
    "from sklearn.feature_extraction.text import CountVectorizer\n",
    "import csv\n",
    "random_state = 42\n",
    "random.seed(random_state)\n",
    "\n",
    "f_tokenized_path = \"/home/tfink/data/kodicare/trec-covid/dtc_evolving_bert/0.txt\"\n",
    "f_tokenized_other_path = \"/home/tfink/data/kodicare/trec-covid/dtc_evolving_bert/11.txt\""
   ]
  },
  {
   "cell_type": "code",
   "execution_count": 2,
   "metadata": {},
   "outputs": [],
   "source": [
    "def read_cleaned(path):\n",
    "    with open(path, \"r\") as fp:\n",
    "        reader = csv.reader(fp, delimiter=\",\", quotechar='\"')\n",
    "        passages = []\n",
    "        passage_uids = []\n",
    "        for line in tqdm(reader):\n",
    "            cord_uid, passage_text_cleaned = line\n",
    "            passages.append(passage_text_cleaned)\n",
    "            passage_uids.append(cord_uid)\n",
    "        return passages, passage_uids\n",
    "        "
   ]
  },
  {
   "cell_type": "code",
   "execution_count": 3,
   "metadata": {},
   "outputs": [
    {
     "name": "stderr",
     "output_type": "stream",
     "text": [
      "0it [00:00, ?it/s]"
     ]
    },
    {
     "name": "stderr",
     "output_type": "stream",
     "text": [
      "598761it [00:08, 66676.03it/s]\n"
     ]
    }
   ],
   "source": [
    "passages, passage_uids = read_cleaned(f_tokenized_path)"
   ]
  },
  {
   "cell_type": "code",
   "execution_count": 4,
   "metadata": {},
   "outputs": [
    {
     "data": {
      "text/plain": [
       "('es karm jedoch nicht aufgabe dieses bersiehtsberichtes sein, auf die ein lheiten der konservativen behandlung der niereninsuifizienz einzugehen. dafiir sei ant die ausgezeichneten i)arstellungen der klinischen behandlung akuter und chronischer ix iereninsuffizicnz yon merr l a , elki on -i)a owsk 1 oder strauss-ra sz s hingewiesen. es ist uns ein besonderes anliegen, hier nochmals die wichtigkeit sorgfiiltiger krankenpflege in den tagen und wochen nach der dialysebehandlung zu betonen. fortschreitende besserung und die endgiiltige wiederherstellung hanger in betrachtlichem mabe davon ab. axzte und pflegepersonal, die patienten mit akuter oder chronischer niereninsuffizienz betreut babel, wissen, da2 diese besonders empfanglich fiir bestimmte komplikationen sind. lungenatelektasen, lastige mundhhhlenentziindungen oder die mhglichkeit yon decubitusgeschwtiren seien nur als beispiele erwi hnt. es ist deshalb nnerlal lich z.b. dutch haufiges wenden des kranken, stiindliche atemiibungen, mhglicherweise sogar tracheale aspiration mittels einer saugpumpe ned peinlichste mundpflege diesel komplikationen vorzubeugen. die kiinstliche niere, ihre indikation und praktische anwendung sollten jedoch nicht erhrtert werden, ohne, wenigstens kurz, auf andere methoden der dialyse hinzuweisen. peritoneale spiilung , zum entzug yon elektrolyten oder khrperfremden gfften aus dem bht ist seit 1938 bekannt und wird heute besonders in frankreich angewcndet. in der tatsache, dab kein anticoagulans nhtig ist, scheint ihr ifaupt-vorleii zu liegen. ihre . wendung kann fii den patienten sehr unbequem und sogar schmerzhaft sell. da die t atur des verfahrens eine genaue kontrolle wahrend der behandlung verbietet, sind die ergebnisse wechse]nd. an die gefahr yon peritonitis mull bei diesem ver ahrcn bcsonders gedacht werdcn.',\n",
       " '54l8wt0l')"
      ]
     },
     "execution_count": 4,
     "metadata": {},
     "output_type": "execute_result"
    }
   ],
   "source": [
    "passages[50], passage_uids[50]"
   ]
  },
  {
   "cell_type": "code",
   "execution_count": 5,
   "metadata": {},
   "outputs": [
    {
     "name": "stderr",
     "output_type": "stream",
     "text": [
      "Batches: 100%|██████████| 625/625 [06:33<00:00,  1.59it/s]\n",
      "2023-07-12 17:44:35,716 - BERTopic - Transformed documents to Embeddings\n"
     ]
    },
    {
     "name": "stdout",
     "output_type": "stream",
     "text": [
      "UMAP(angular_rp_forest=True, metric='cosine', min_dist=0.0, n_components=5, random_state=42, verbose=True)\n",
      "Wed Jul 12 17:44:35 2023 Construct fuzzy simplicial set\n",
      "Wed Jul 12 17:44:35 2023 Finding Nearest Neighbors\n",
      "Wed Jul 12 17:44:35 2023 Building RP forest with 12 trees\n",
      "Wed Jul 12 17:44:39 2023 NN descent for 14 iterations\n",
      "\t 1  /  14\n",
      "\t 2  /  14\n",
      "\t 3  /  14\n",
      "\t 4  /  14\n",
      "\t 5  /  14\n",
      "\tStopping threshold met -- exiting after 5 iterations\n",
      "Wed Jul 12 17:44:53 2023 Finished Nearest Neighbor Search\n",
      "Wed Jul 12 17:44:56 2023 Construct embedding\n"
     ]
    },
    {
     "name": "stderr",
     "output_type": "stream",
     "text": [
      "Epochs completed: 100%| ██████████ 200/200 [00:06]\n",
      "2023-07-12 17:45:03,961 - BERTopic - Reduced dimensionality\n"
     ]
    },
    {
     "name": "stdout",
     "output_type": "stream",
     "text": [
      "Wed Jul 12 17:45:03 2023 Finished embedding\n",
      "huggingface/tokenizers: The current process just got forked, after parallelism has already been used. Disabling parallelism to avoid deadlocks...\n",
      "To disable this warning, you can either:\n",
      "\t- Avoid using `tokenizers` before the fork if possible\n",
      "\t- Explicitly set the environment variable TOKENIZERS_PARALLELISM=(true | false)\n",
      "huggingface/tokenizers: The current process just got forked, after parallelism has already been used. Disabling parallelism to avoid deadlocks...\n",
      "To disable this warning, you can either:\n",
      "\t- Avoid using `tokenizers` before the fork if possible\n",
      "\t- Explicitly set the environment variable TOKENIZERS_PARALLELISM=(true | false)\n",
      "huggingface/tokenizers: The current process just got forked, after parallelism has already been used. Disabling parallelism to avoid deadlocks...\n",
      "To disable this warning, you can either:\n",
      "\t- Avoid using `tokenizers` before the fork if possible\n",
      "\t- Explicitly set the environment variable TOKENIZERS_PARALLELISM=(true | false)\n",
      "huggingface/tokenizers: The current process just got forked, after parallelism has already been used. Disabling parallelism to avoid deadlocks...\n",
      "To disable this warning, you can either:\n",
      "\t- Avoid using `tokenizers` before the fork if possible\n",
      "\t- Explicitly set the environment variable TOKENIZERS_PARALLELISM=(true | false)\n",
      "huggingface/tokenizers: The current process just got forked, after parallelism has already been used. Disabling parallelism to avoid deadlocks...\n",
      "To disable this warning, you can either:\n",
      "\t- Avoid using `tokenizers` before the fork if possible\n",
      "\t- Explicitly set the environment variable TOKENIZERS_PARALLELISM=(true | false)\n",
      "huggingface/tokenizers: The current process just got forked, after parallelism has already been used. Disabling parallelism to avoid deadlocks...\n",
      "To disable this warning, you can either:\n",
      "\t- Avoid using `tokenizers` before the fork if possible\n",
      "\t- Explicitly set the environment variable TOKENIZERS_PARALLELISM=(true | false)\n"
     ]
    },
    {
     "name": "stderr",
     "output_type": "stream",
     "text": [
      "2023-07-12 17:45:05,212 - BERTopic - Clustered reduced embeddings\n"
     ]
    }
   ],
   "source": [
    "min_topic_size = 5\n",
    "min_samples = None\n",
    "cluster_selection_epsilon = 0.25\n",
    "# dimensionality reduction\n",
    "umap_model = umap.UMAP(n_neighbors=15, \n",
    "                       n_components=5, \n",
    "                       min_dist=0.0, \n",
    "                       metric='cosine', \n",
    "                       random_state=random_state, \n",
    "                       verbose=True)\n",
    "hdbscan_model = hdbscan.HDBSCAN(min_cluster_size=min_topic_size,\n",
    "                        metric='euclidean',\n",
    "                        cluster_selection_method='eom',\n",
    "                        prediction_data=True,\n",
    "                        cluster_selection_epsilon=cluster_selection_epsilon,\n",
    "                        min_samples=min_samples)\n",
    "#hdbscan_model=None\n",
    "\n",
    "# vectorizer\n",
    "vectorizer = CountVectorizer(stop_words='english')\n",
    "\n",
    "# create BerTopic model\n",
    "#embedding_model = \"xlm-r-bert-base-nli-stsb-mean-tokens\"\n",
    "embedding_model = \"all-mpnet-base-v2\"\n",
    "topic_model = BERTopic(embedding_model=embedding_model, \n",
    "                       umap_model=umap_model, \n",
    "                       hdbscan_model=hdbscan_model,\n",
    "                       vectorizer_model=vectorizer,\n",
    "                       language=\"english\", \n",
    "                       calculate_probabilities=False, \n",
    "                       min_topic_size=min_topic_size,\n",
    "                       verbose=True)\n",
    "\n",
    "# Perform topic modeling with BERTopic\n",
    "topics, probabilities = topic_model.fit_transform(passages[:20000])"
   ]
  },
  {
   "cell_type": "code",
   "execution_count": 6,
   "metadata": {},
   "outputs": [
    {
     "data": {
      "text/html": [
       "<div>\n",
       "<style scoped>\n",
       "    .dataframe tbody tr th:only-of-type {\n",
       "        vertical-align: middle;\n",
       "    }\n",
       "\n",
       "    .dataframe tbody tr th {\n",
       "        vertical-align: top;\n",
       "    }\n",
       "\n",
       "    .dataframe thead th {\n",
       "        text-align: right;\n",
       "    }\n",
       "</style>\n",
       "<table border=\"1\" class=\"dataframe\">\n",
       "  <thead>\n",
       "    <tr style=\"text-align: right;\">\n",
       "      <th></th>\n",
       "      <th>Topic</th>\n",
       "      <th>Count</th>\n",
       "      <th>Name</th>\n",
       "    </tr>\n",
       "  </thead>\n",
       "  <tbody>\n",
       "    <tr>\n",
       "      <th>0</th>\n",
       "      <td>-1</td>\n",
       "      <td>342</td>\n",
       "      <td>-1_cells_ml_virus_10</td>\n",
       "    </tr>\n",
       "    <tr>\n",
       "      <th>1</th>\n",
       "      <td>0</td>\n",
       "      <td>5126</td>\n",
       "      <td>0_rna_mhv_jhm_et</td>\n",
       "    </tr>\n",
       "    <tr>\n",
       "      <th>2</th>\n",
       "      <td>1</td>\n",
       "      <td>1922</td>\n",
       "      <td>1_rotavirus_calves_diarrhea_bovine</td>\n",
       "    </tr>\n",
       "    <tr>\n",
       "      <th>3</th>\n",
       "      <td>2</td>\n",
       "      <td>618</td>\n",
       "      <td>2_229e_cf_oc43_rises</td>\n",
       "    </tr>\n",
       "    <tr>\n",
       "      <th>4</th>\n",
       "      <td>3</td>\n",
       "      <td>583</td>\n",
       "      <td>3_influenza_interferon_volunteers_antiviral</td>\n",
       "    </tr>\n",
       "    <tr>\n",
       "      <th>...</th>\n",
       "      <td>...</td>\n",
       "      <td>...</td>\n",
       "      <td>...</td>\n",
       "    </tr>\n",
       "    <tr>\n",
       "      <th>228</th>\n",
       "      <td>227</td>\n",
       "      <td>6</td>\n",
       "      <td>227_fipv_renografin_hyperimmune_79</td>\n",
       "    </tr>\n",
       "    <tr>\n",
       "      <th>229</th>\n",
       "      <td>228</td>\n",
       "      <td>6</td>\n",
       "      <td>228_lipoproteins_apoc_apoa_vldls</td>\n",
       "    </tr>\n",
       "    <tr>\n",
       "      <th>230</th>\n",
       "      <td>229</td>\n",
       "      <td>6</td>\n",
       "      <td>229_der_capi_zellen_die</td>\n",
       "    </tr>\n",
       "    <tr>\n",
       "      <th>231</th>\n",
       "      <td>230</td>\n",
       "      <td>6</td>\n",
       "      <td>230_prcv_sdav_glands_lacrimal</td>\n",
       "    </tr>\n",
       "    <tr>\n",
       "      <th>232</th>\n",
       "      <td>231</td>\n",
       "      <td>6</td>\n",
       "      <td>231_berne_neutralising_sera_prevalence</td>\n",
       "    </tr>\n",
       "  </tbody>\n",
       "</table>\n",
       "<p>233 rows × 3 columns</p>\n",
       "</div>"
      ],
      "text/plain": [
       "     Topic  Count                                         Name\n",
       "0       -1    342                         -1_cells_ml_virus_10\n",
       "1        0   5126                             0_rna_mhv_jhm_et\n",
       "2        1   1922           1_rotavirus_calves_diarrhea_bovine\n",
       "3        2    618                         2_229e_cf_oc43_rises\n",
       "4        3    583  3_influenza_interferon_volunteers_antiviral\n",
       "..     ...    ...                                          ...\n",
       "228    227      6           227_fipv_renografin_hyperimmune_79\n",
       "229    228      6             228_lipoproteins_apoc_apoa_vldls\n",
       "230    229      6                      229_der_capi_zellen_die\n",
       "231    230      6                230_prcv_sdav_glands_lacrimal\n",
       "232    231      6       231_berne_neutralising_sera_prevalence\n",
       "\n",
       "[233 rows x 3 columns]"
      ]
     },
     "execution_count": 6,
     "metadata": {},
     "output_type": "execute_result"
    }
   ],
   "source": [
    "# Get the list of topics\n",
    "topic_model.get_topic_info()"
   ]
  },
  {
   "cell_type": "code",
   "execution_count": 7,
   "metadata": {},
   "outputs": [
    {
     "name": "stderr",
     "output_type": "stream",
     "text": [
      "Batches: 100%|██████████| 313/313 [03:21<00:00,  1.55it/s]\n"
     ]
    },
    {
     "name": "stdout",
     "output_type": "stream",
     "text": [
      "Wed Jul 12 17:48:34 2023 Worst tree score: 0.72090000\n",
      "Wed Jul 12 17:48:34 2023 Mean tree score: 0.73215833\n",
      "Wed Jul 12 17:48:34 2023 Best tree score: 0.74185000\n",
      "Wed Jul 12 17:48:36 2023 Forward diversification reduced edges from 300000 to 100829\n",
      "Wed Jul 12 17:48:39 2023 Reverse diversification reduced edges from 100829 to 100829\n",
      "Wed Jul 12 17:48:42 2023 Degree pruning reduced edges from 110202 to 110172\n",
      "Wed Jul 12 17:48:42 2023 Resorting data and graph based on tree order\n",
      "Wed Jul 12 17:48:42 2023 Building and compiling search function\n"
     ]
    },
    {
     "name": "stderr",
     "output_type": "stream",
     "text": [
      "Epochs completed: 100%| ██████████ 100/100 [00:01]\n",
      "2023-07-12 17:48:57,669 - BERTopic - Reduced dimensionality\n",
      "2023-07-12 17:48:58,144 - BERTopic - Predicted clusters\n"
     ]
    }
   ],
   "source": [
    "other_topics, _ = topic_model.transform(passages[20000:30000])"
   ]
  },
  {
   "cell_type": "code",
   "execution_count": 8,
   "metadata": {},
   "outputs": [],
   "source": [
    "def get_topic_proportions(base_topics, other_topics):\n",
    "    # first calculate base topic counts and proportions\n",
    "    base_outlier_count = 0\n",
    "    base_topic_counts = {}\n",
    "    base_topic_proportions = {}\n",
    "    non_outlier_docs = 0\n",
    "    for idx, topic in enumerate(base_topics):\n",
    "        if topic == -1:\n",
    "            base_outlier_count += 1\n",
    "            continue\n",
    "        non_outlier_docs += 1\n",
    "        topic_desc = topic_model.get_topic(topic)\n",
    "        topic_desc = f\"{topic}_{'_'.join([t for t,p in topic_desc[:5]])}\"\n",
    "        if topic_desc not in base_topic_counts:\n",
    "            base_topic_counts[topic_desc] = 0\n",
    "        base_topic_counts[topic_desc] += 1\n",
    "    for topic_desc in base_topic_counts.keys():\n",
    "        base_topic_proportions[topic_desc] = base_topic_counts[topic_desc] / non_outlier_docs\n",
    "    base_outlier_proportion = base_outlier_count / len(base_topics)\n",
    "\n",
    "    # then calculate other topic counts and proportions\n",
    "    other_outlier_count = 0\n",
    "    other_topic_counts = {t:0 for t in base_topic_counts.keys()}\n",
    "    other_topic_proportions = {}\n",
    "    non_outlier_docs = 0\n",
    "    for idx, topic in enumerate(other_topics):\n",
    "        if topic == -1:\n",
    "            other_outlier_count += 1\n",
    "            continue\n",
    "        non_outlier_docs += 1\n",
    "        topic_desc = topic_model.get_topic(topic)\n",
    "        topic_desc = f\"{topic}_{'_'.join([t for t,p in topic_desc[:5]])}\"\n",
    "        other_topic_counts[topic_desc] += 1\n",
    "    for topic_desc in other_topic_counts.keys():\n",
    "        other_topic_proportions[topic_desc] = other_topic_counts[topic_desc] / non_outlier_docs\n",
    "    other_outlier_proportion = other_outlier_count / len(other_topics)\n",
    "\n",
    "    # calc\n",
    "    intersection = get_intersection(base_topic_proportions, other_topic_proportions)\n",
    "    print(f\"base_outliers: {base_outlier_proportion:.2%}, other_outliers: {other_outlier_proportion:.2%}, intersection: {intersection:.2%}\")\n",
    "\n",
    "\n",
    "def get_intersection(topic_proportions_a, topic_proportions_b):\n",
    "    total = 0\n",
    "    for topic_desc in topic_proportions_a.keys():\n",
    "        total += min(topic_proportions_a[topic_desc], topic_proportions_b[topic_desc])\n",
    "    return total"
   ]
  },
  {
   "cell_type": "code",
   "execution_count": 9,
   "metadata": {},
   "outputs": [
    {
     "name": "stdout",
     "output_type": "stream",
     "text": [
      "base_outliers: 1.71%, other_outliers: 82.36%, intersection: 22.94%\n"
     ]
    }
   ],
   "source": [
    "get_topic_proportions(topics, other_topics)"
   ]
  },
  {
   "cell_type": "code",
   "execution_count": null,
   "metadata": {},
   "outputs": [],
   "source": []
  }
 ],
 "metadata": {
  "kernelspec": {
   "display_name": "bertopic",
   "language": "python",
   "name": "python3"
  },
  "language_info": {
   "codemirror_mode": {
    "name": "ipython",
    "version": 3
   },
   "file_extension": ".py",
   "mimetype": "text/x-python",
   "name": "python",
   "nbconvert_exporter": "python",
   "pygments_lexer": "ipython3",
   "version": "3.9.16"
  },
  "orig_nbformat": 4
 },
 "nbformat": 4,
 "nbformat_minor": 2
}
